{
  "nbformat": 4,
  "nbformat_minor": 0,
  "metadata": {
    "kernelspec": {
      "display_name": "Python 3",
      "language": "python",
      "name": "python3"
    },
    "language_info": {
      "codemirror_mode": {
        "name": "ipython",
        "version": 3
      },
      "file_extension": ".py",
      "mimetype": "text/x-python",
      "name": "python",
      "nbconvert_exporter": "python",
      "pygments_lexer": "ipython3",
      "version": "3.8.5"
    },
    "colab": {
      "name": "solutions4.ipynb",
      "provenance": []
    }
  },
  "cells": [
    {
      "cell_type": "markdown",
      "metadata": {
        "id": "pyBhtpf-gKTO"
      },
      "source": [
        "# Теория вероятностей и математическая статистика\n",
        "\n",
        "## Урок 4\n",
        "\n",
        "## Непрерывные случайные величины. Функция распределения и функция плотности. Нормальное распределение. Центральная предельная теорема\n",
        "\n",
        "### Разбор домашнего задания"
      ]
    },
    {
      "cell_type": "markdown",
      "metadata": {
        "id": "fKQtcbKlgKTS"
      },
      "source": [
        "__Задачи 1 и 2__\n",
        "\n",
        "Коробки с шоколадом упаковываются автоматически. Их средняя масса равна 1.06 кг. Известно, что 5% коробок имеют массу, меньшую 1 кг. Найдите среднее квадратическое отклонение массы коробки. Найдите долю коробок, имеющих массу больше 1.1 кг.\n",
        "\n",
        "_Подсказка_. 1) Можно считать, что распределение массы коробки нормальное. 2) Найдите такое значение `scale`, для которого значение `cdf(x=1, loc=1.06, scale=scale)` близко к 0.05. Необходимая точность: `10 ** (-10)`."
      ]
    },
    {
      "cell_type": "markdown",
      "metadata": {
        "id": "ef67FGsagKTS"
      },
      "source": [
        "__Решение__\n",
        "\n",
        "Нам нужно найти такое значение `scale`, что верны неравенства:\n",
        "* `cdf(x=1, loc=1.06, scale=scale) < 0.05 + 10 ** (-10)`\n",
        "* `cdf(x=1, loc=1.06, scale=scale) > 0.05 - 10 ** (-10)`\n",
        "\n",
        "Реализуем для поиска метод Ньютона. Он заключается в итеративном делении отрезка пополам, пока не будет найдено значение с нужной точностью. Он хорошо подходит для поиска конкретного значения монотонной функции."
      ]
    },
    {
      "cell_type": "code",
      "metadata": {
        "execution": {
          "iopub.execute_input": "2021-02-13T12:55:28.008809Z",
          "iopub.status.busy": "2021-02-13T12:55:28.007592Z",
          "iopub.status.idle": "2021-02-13T12:55:28.457281Z",
          "shell.execute_reply": "2021-02-13T12:55:28.458178Z"
        },
        "id": "5XX7FASrgKTT"
      },
      "source": [
        "import numpy as np\n",
        "from scipy import stats"
      ],
      "execution_count": null,
      "outputs": []
    },
    {
      "cell_type": "code",
      "metadata": {
        "execution": {
          "iopub.execute_input": "2021-02-13T12:55:28.463048Z",
          "iopub.status.busy": "2021-02-13T12:55:28.462235Z",
          "iopub.status.idle": "2021-02-13T12:55:28.464446Z",
          "shell.execute_reply": "2021-02-13T12:55:28.465042Z"
        },
        "id": "OZ0XCnOTgKTU"
      },
      "source": [
        "loc = 1.06"
      ],
      "execution_count": null,
      "outputs": []
    },
    {
      "cell_type": "markdown",
      "metadata": {
        "id": "0WkhgDgRgKTU"
      },
      "source": [
        "Метод Ньютона:"
      ]
    },
    {
      "cell_type": "code",
      "metadata": {
        "execution": {
          "iopub.execute_input": "2021-02-13T12:55:28.476256Z",
          "iopub.status.busy": "2021-02-13T12:55:28.474029Z",
          "iopub.status.idle": "2021-02-13T12:55:28.486426Z",
          "shell.execute_reply": "2021-02-13T12:55:28.487019Z"
        },
        "id": "DBiNP1XogKTV",
        "outputId": "e7ebc721-bcd9-4c13-da06-824821767a2e"
      },
      "source": [
        "start = 0\n",
        "end = 1\n",
        "\n",
        "target = 0.05\n",
        "err = 10 ** (-10)\n",
        "\n",
        "print('cdf\\tscale')\n",
        "print('----------')\n",
        "\n",
        "while True:\n",
        "    scale = (start + end) / 2\n",
        "    cdf = stats.norm.cdf(1, loc=loc, scale=scale)\n",
        "    \n",
        "    print(round(cdf, 4), '\\t', round(scale, 15))\n",
        "    \n",
        "    if cdf <= target - err:\n",
        "        start = scale\n",
        "    elif cdf >= target + err:\n",
        "        end = scale\n",
        "    else:\n",
        "        break\n",
        "            \n",
        "scale"
      ],
      "execution_count": null,
      "outputs": [
        {
          "name": "stdout",
          "output_type": "stream",
          "text": [
            "cdf\tscale\n",
            "----------\n",
            "0.4522 \t 0.5\n",
            "0.4052 \t 0.25\n",
            "0.3156 \t 0.125\n",
            "0.1685 \t 0.0625\n",
            "0.0274 \t 0.03125\n",
            "0.1003 \t 0.046875\n",
            "0.0623 \t 0.0390625\n",
            "0.0439 \t 0.03515625\n",
            "0.053 \t 0.037109375\n",
            "0.0484 \t 0.0361328125\n",
            "0.0507 \t 0.03662109375\n",
            "0.0495 \t 0.036376953125\n",
            "0.0501 \t 0.0364990234375\n",
            "0.0498 \t 0.03643798828125\n",
            "0.05 \t 0.036468505859375\n",
            "0.05 \t 0.036483764648438\n",
            "0.05 \t 0.036476135253906\n",
            "0.05 \t 0.036479949951172\n",
            "0.05 \t 0.036478042602539\n",
            "0.05 \t 0.036477088928223\n",
            "0.05 \t 0.036477565765381\n",
            "0.05 \t 0.036477327346802\n",
            "0.05 \t 0.036477446556091\n",
            "0.05 \t 0.036477386951447\n",
            "0.05 \t 0.036477416753769\n",
            "0.05 \t 0.036477401852608\n",
            "0.05 \t 0.036477409303188\n",
            "0.05 \t 0.036477413028479\n",
            "0.05 \t 0.036477411165833\n",
            "0.05 \t 0.036477410234511\n",
            "0.05 \t 0.03647740976885\n",
            "0.05 \t 0.03647741000168\n",
            "0.05 \t 0.036477409885265\n",
            "0.05 \t 0.036477409943473\n",
            "0.05 \t 0.036477409914369\n"
          ]
        },
        {
          "data": {
            "text/plain": [
              "0.036477409914368764"
            ]
          },
          "execution_count": 1,
          "metadata": {},
          "output_type": "execute_result"
        }
      ]
    },
    {
      "cell_type": "markdown",
      "metadata": {
        "id": "-rhJ03tdgKTX"
      },
      "source": [
        "Проверка:"
      ]
    },
    {
      "cell_type": "code",
      "metadata": {
        "execution": {
          "iopub.execute_input": "2021-02-13T12:55:28.491735Z",
          "iopub.status.busy": "2021-02-13T12:55:28.491088Z",
          "iopub.status.idle": "2021-02-13T12:55:28.493321Z",
          "shell.execute_reply": "2021-02-13T12:55:28.493921Z"
        },
        "id": "dRVzTkHFgKTY",
        "outputId": "a7424bac-3203-4e37-cd27-c7f02abd51f7"
      },
      "source": [
        "stats.norm.cdf(1, loc=loc, scale=scale)"
      ],
      "execution_count": null,
      "outputs": [
        {
          "data": {
            "text/plain": [
              "0.049999999998430855"
            ]
          },
          "execution_count": 1,
          "metadata": {},
          "output_type": "execute_result"
        }
      ]
    },
    {
      "cell_type": "markdown",
      "metadata": {
        "id": "I7VQMC_OgKTZ"
      },
      "source": [
        "Тепер, когда мы знаем оба параметра нашего распределения, можно найти вероятность того, что коробка будет иметь массу более 1.1 кг. Это можно сделать с помощью функции распределения:\n",
        "$$p = 1 - F(1.1)$$"
      ]
    },
    {
      "cell_type": "code",
      "metadata": {
        "execution": {
          "iopub.execute_input": "2021-02-13T12:55:28.498840Z",
          "iopub.status.busy": "2021-02-13T12:55:28.498141Z",
          "iopub.status.idle": "2021-02-13T12:55:28.500713Z",
          "shell.execute_reply": "2021-02-13T12:55:28.501314Z"
        },
        "id": "ouT5BnS2gKTZ",
        "outputId": "4376b0f3-d357-4e67-e48f-9a5e6ffd5082"
      },
      "source": [
        "1 - stats.norm.cdf(1.1, loc=loc, scale=scale)"
      ],
      "execution_count": null,
      "outputs": [
        {
          "data": {
            "text/plain": [
              "0.1364149040387339"
            ]
          },
          "execution_count": 1,
          "metadata": {},
          "output_type": "execute_result"
        }
      ]
    },
    {
      "cell_type": "markdown",
      "metadata": {
        "id": "sHfP66SPgKTa"
      },
      "source": [
        "__Задачи 3-5__\n",
        "\n",
        "Коробка содержит 30 конфет. Известно, что масса каждой конфеты распределена равномерно в промежутке от 12 до 14 граммов. Используя центральную предельную теорему, найти вероятность, что масса всей коробки будет меньше 390 граммов; больше 395 граммов; от 380 до 400 граммов.\n",
        "\n",
        "Массой самой коробки можно пренебречь.\n",
        "\n",
        "_Подсказка_. Для равномерного распределения в промежутке `[a, b]`:\n",
        "1. мат. ожидание равно `(a + b) / 2`,\n",
        "2. дисперсия равна `(b - a)^2 / 12`."
      ]
    },
    {
      "cell_type": "markdown",
      "metadata": {
        "id": "0QqZVyTHgKTa"
      },
      "source": [
        "__Решение__\n",
        "\n",
        "Используя центральную предельную теорему, можно найти распределение массы всей коробки, содержащей 30 конфет. Математическое ожидание и дисперсия массы каждой конфеты:\n",
        "$$m = \\dfrac{a + b}{2} = 13, \\: d = \\dfrac{(b - a)^2}{12} = 1/3$$\n",
        "\n",
        "Итак, по центральной предельной теореме масса всей коробки имеет нормальное распределение с параметрами:\n",
        "$$\\mu = 30 \\cdot m = 390, \\: \\sigma^2 = 30 \\cdot d = 10$$\n",
        "\n",
        "Зная эти параметры, можно найти искомые вероятности."
      ]
    },
    {
      "cell_type": "code",
      "metadata": {
        "execution": {
          "iopub.execute_input": "2021-02-13T12:55:28.506736Z",
          "iopub.status.busy": "2021-02-13T12:55:28.506016Z",
          "iopub.status.idle": "2021-02-13T12:55:28.509339Z",
          "shell.execute_reply": "2021-02-13T12:55:28.508630Z"
        },
        "id": "oOByHELrgKTb"
      },
      "source": [
        "mu = 390\n",
        "sigma = np.sqrt(10)\n",
        "\n",
        "norm = stats.norm(loc=mu, scale=sigma)"
      ],
      "execution_count": null,
      "outputs": []
    },
    {
      "cell_type": "markdown",
      "metadata": {
        "id": "dTLHJ1vrgKTb"
      },
      "source": [
        "а) вероятность, что коробка будет весить менее 390 граммов:"
      ]
    },
    {
      "cell_type": "code",
      "metadata": {
        "execution": {
          "iopub.execute_input": "2021-02-13T12:55:28.514256Z",
          "iopub.status.busy": "2021-02-13T12:55:28.513654Z",
          "iopub.status.idle": "2021-02-13T12:55:28.516691Z",
          "shell.execute_reply": "2021-02-13T12:55:28.517344Z"
        },
        "id": "dWfmOQ42gKTb",
        "outputId": "d47a4887-d34e-4c3f-8781-4494966a8470"
      },
      "source": [
        "norm.cdf(390)"
      ],
      "execution_count": null,
      "outputs": [
        {
          "data": {
            "text/plain": [
              "0.5"
            ]
          },
          "execution_count": 1,
          "metadata": {},
          "output_type": "execute_result"
        }
      ]
    },
    {
      "cell_type": "markdown",
      "metadata": {
        "id": "Nprtp8s7gKTb"
      },
      "source": [
        "б) вероятность быть больше 395 граммов:"
      ]
    },
    {
      "cell_type": "code",
      "metadata": {
        "execution": {
          "iopub.execute_input": "2021-02-13T12:55:28.522643Z",
          "iopub.status.busy": "2021-02-13T12:55:28.521986Z",
          "iopub.status.idle": "2021-02-13T12:55:28.525196Z",
          "shell.execute_reply": "2021-02-13T12:55:28.525882Z"
        },
        "id": "J8jLd2kVgKTc",
        "outputId": "df1093b3-91da-49e0-decb-58441c240bd4"
      },
      "source": [
        "1 - norm.cdf(395)"
      ],
      "execution_count": null,
      "outputs": [
        {
          "data": {
            "text/plain": [
              "0.056923149003329065"
            ]
          },
          "execution_count": 1,
          "metadata": {},
          "output_type": "execute_result"
        }
      ]
    },
    {
      "cell_type": "markdown",
      "metadata": {
        "id": "GODqJbyFgKTc"
      },
      "source": [
        "в) вероятность быть от 380 до 400 граммов. Чтобы посчитать данную вероятность, достаточно найти вероятность быть меньше 400 граммов, и вычесть из неё вероятность быть меньше 380 граммов:"
      ]
    },
    {
      "cell_type": "code",
      "metadata": {
        "execution": {
          "iopub.execute_input": "2021-02-13T12:55:28.531522Z",
          "iopub.status.busy": "2021-02-13T12:55:28.530480Z",
          "iopub.status.idle": "2021-02-13T12:55:28.533525Z",
          "shell.execute_reply": "2021-02-13T12:55:28.534150Z"
        },
        "id": "Ut-0qeOggKTc",
        "outputId": "a33b452d-1a91-4d2b-ad05-978d0b72324b"
      },
      "source": [
        "norm.cdf(400) - norm.cdf(380)"
      ],
      "execution_count": null,
      "outputs": [
        {
          "data": {
            "text/plain": [
              "0.9984345977419975"
            ]
          },
          "execution_count": 1,
          "metadata": {},
          "output_type": "execute_result"
        }
      ]
    },
    {
      "cell_type": "markdown",
      "metadata": {
        "id": "a8nr1o9IgKTc"
      },
      "source": [
        "### Разбор дополнительных заданий"
      ]
    },
    {
      "cell_type": "markdown",
      "metadata": {
        "id": "v1FF24xGgKTd"
      },
      "source": [
        "__Задача 1__\n",
        "\n",
        "Продемонстрируйте действие центральной предельной теоремы на каком-нибудь распределении на ваш выбор (кроме нормального). Что для этого нужно сделать:\n",
        "1. Выберите несколько значений `n` (например, 2, 5, 10, 50, но можно и больше).\n",
        "2. Для выбранного значения `n` сгенерируйте 1000 раз выборку размера `n` из выбранного вами распределения, посчитайте по этой выборке выборочное среднее.\n",
        "3. Изобразите гистограмму из полученных 1000 значений выборочного среднего с аргументом `density=True`.\n",
        "4. Поверх гистограммы нарисуйте функцию плотности нормального распределения с параметрами из ЦПТ (т.е. `mu = M`, `sigma^2 = D / n`, где `M` - мат. ожидание выбранного вами распределения,  `D` - его дисперсия).\n",
        "\n",
        "При достаточно большом `n` гистограмма должна соответствовать построенной функции плотности."
      ]
    },
    {
      "cell_type": "markdown",
      "metadata": {
        "id": "7jAwVRmKgKTd"
      },
      "source": [
        "__Решение__"
      ]
    },
    {
      "cell_type": "markdown",
      "metadata": {
        "id": "wH0UQcFQgKTd"
      },
      "source": [
        "Будем работать с экспоненциальным распределением. У него есть один параметр $\\lambda$, его мат. ожидание и дисперсия:\n",
        "$$M(X) = 1 / \\lambda, \\:\\: D(X) = 1 / \\lambda^2$$\n",
        "\n",
        "Зафиксируем параметр $\\lambda = 5$."
      ]
    },
    {
      "cell_type": "code",
      "metadata": {
        "execution": {
          "iopub.execute_input": "2021-02-13T12:55:28.538729Z",
          "iopub.status.busy": "2021-02-13T12:55:28.538036Z",
          "iopub.status.idle": "2021-02-13T12:55:28.540592Z",
          "shell.execute_reply": "2021-02-13T12:55:28.541380Z"
        },
        "id": "rYVXAh6egKTd"
      },
      "source": [
        "lambda_ = 5\n",
        "\n",
        "mean = 1 / lambda_\n",
        "std = 1 / lambda_"
      ],
      "execution_count": null,
      "outputs": []
    },
    {
      "cell_type": "code",
      "metadata": {
        "execution": {
          "iopub.execute_input": "2021-02-13T12:55:28.545549Z",
          "iopub.status.busy": "2021-02-13T12:55:28.544804Z",
          "iopub.status.idle": "2021-02-13T12:55:28.770325Z",
          "shell.execute_reply": "2021-02-13T12:55:28.771089Z"
        },
        "id": "DKQSPTJggKTd"
      },
      "source": [
        "from matplotlib import pyplot as plt"
      ],
      "execution_count": null,
      "outputs": []
    },
    {
      "cell_type": "code",
      "metadata": {
        "execution": {
          "iopub.execute_input": "2021-02-13T12:55:28.775095Z",
          "iopub.status.busy": "2021-02-13T12:55:28.774276Z",
          "iopub.status.idle": "2021-02-13T12:55:28.776666Z",
          "shell.execute_reply": "2021-02-13T12:55:28.777278Z"
        },
        "id": "gGjDuw8LgKTe"
      },
      "source": [
        "n = 100\n",
        "\n",
        "n_samples = 1000"
      ],
      "execution_count": null,
      "outputs": []
    },
    {
      "cell_type": "code",
      "metadata": {
        "execution": {
          "iopub.execute_input": "2021-02-13T12:55:28.781123Z",
          "iopub.status.busy": "2021-02-13T12:55:28.780579Z",
          "iopub.status.idle": "2021-02-13T12:55:28.785724Z",
          "shell.execute_reply": "2021-02-13T12:55:28.786304Z"
        },
        "id": "BZGdf0CtgKTe",
        "outputId": "b0a7c1fd-e902-4ae5-972e-41b7ebee0e6d"
      },
      "source": [
        "samples = np.random.exponential(scale=std, size=(n, n_samples))\n",
        "samples = samples.mean(axis=0)\n",
        "\n",
        "samples.shape"
      ],
      "execution_count": null,
      "outputs": [
        {
          "data": {
            "text/plain": [
              "(1000,)"
            ]
          },
          "execution_count": 1,
          "metadata": {},
          "output_type": "execute_result"
        }
      ]
    },
    {
      "cell_type": "code",
      "metadata": {
        "execution": {
          "iopub.execute_input": "2021-02-13T12:55:28.789989Z",
          "iopub.status.busy": "2021-02-13T12:55:28.789368Z",
          "iopub.status.idle": "2021-02-13T12:55:28.790969Z",
          "shell.execute_reply": "2021-02-13T12:55:28.791526Z"
        },
        "id": "FFEMg2VlgKTe"
      },
      "source": [
        "mu = mean\n",
        "sigma = std / np.sqrt(n)"
      ],
      "execution_count": null,
      "outputs": []
    },
    {
      "cell_type": "code",
      "metadata": {
        "execution": {
          "iopub.execute_input": "2021-02-13T12:55:28.802151Z",
          "iopub.status.busy": "2021-02-13T12:55:28.801541Z",
          "iopub.status.idle": "2021-02-13T12:55:28.803163Z",
          "shell.execute_reply": "2021-02-13T12:55:28.803730Z"
        },
        "id": "hDWl_H-JgKTf"
      },
      "source": [
        "%config InlineBackend.figure_formats = ['svg']"
      ],
      "execution_count": null,
      "outputs": []
    },
    {
      "cell_type": "code",
      "metadata": {
        "execution": {
          "iopub.execute_input": "2021-02-13T12:55:28.826371Z",
          "iopub.status.busy": "2021-02-13T12:55:28.825692Z",
          "iopub.status.idle": "2021-02-13T12:55:28.995530Z",
          "shell.execute_reply": "2021-02-13T12:55:28.996157Z"
        },
        "id": "Ckgsk7tzgKTf",
        "outputId": "961ccc05-bb93-469d-e866-052330f56f75"
      },
      "source": [
        "plt.hist(samples, density=True, bins=25)\n",
        "\n",
        "x0, x1 = plt.xlim()\n",
        "\n",
        "x = np.linspace(x0, x1, 500)\n",
        "y = stats.norm.pdf(x, loc=mu, scale=sigma)\n",
        "\n",
        "plt.plot(x, y)"
      ],
      "execution_count": null,
      "outputs": [
        {
          "data": {
            "text/plain": [
              "[<matplotlib.lines.Line2D at 0x12e5ec100>]"
            ]
          },
          "execution_count": 1,
          "metadata": {},
          "output_type": "execute_result"
        },
        {
          "data": {
            "image/svg+xml": [
              "<?xml version=\"1.0\" encoding=\"utf-8\" standalone=\"no\"?>\n",
              "<!DOCTYPE svg PUBLIC \"-//W3C//DTD SVG 1.1//EN\"\n",
              "  \"http://www.w3.org/Graphics/SVG/1.1/DTD/svg11.dtd\">\n",
              "<!-- Created with matplotlib (https://matplotlib.org/) -->\n",
              "<svg height=\"248.518125pt\" version=\"1.1\" viewBox=\"0 0 378.465625 248.518125\" width=\"378.465625pt\" xmlns=\"http://www.w3.org/2000/svg\" xmlns:xlink=\"http://www.w3.org/1999/xlink\">\n",
              " <metadata>\n",
              "  <rdf:RDF xmlns:cc=\"http://creativecommons.org/ns#\" xmlns:dc=\"http://purl.org/dc/elements/1.1/\" xmlns:rdf=\"http://www.w3.org/1999/02/22-rdf-syntax-ns#\">\n",
              "   <cc:Work>\n",
              "    <dc:type rdf:resource=\"http://purl.org/dc/dcmitype/StillImage\"/>\n",
              "    <dc:date>2021-02-13T15:55:28.946982</dc:date>\n",
              "    <dc:format>image/svg+xml</dc:format>\n",
              "    <dc:creator>\n",
              "     <cc:Agent>\n",
              "      <dc:title>Matplotlib v3.3.3, https://matplotlib.org/</dc:title>\n",
              "     </cc:Agent>\n",
              "    </dc:creator>\n",
              "   </cc:Work>\n",
              "  </rdf:RDF>\n",
              " </metadata>\n",
              " <defs>\n",
              "  <style type=\"text/css\">*{stroke-linecap:butt;stroke-linejoin:round;}</style>\n",
              " </defs>\n",
              " <g id=\"figure_1\">\n",
              "  <g id=\"patch_1\">\n",
              "   <path d=\"M 0 248.518125 \n",
              "L 378.465625 248.518125 \n",
              "L 378.465625 0 \n",
              "L 0 0 \n",
              "z\n",
              "\" style=\"fill:none;\"/>\n",
              "  </g>\n",
              "  <g id=\"axes_1\">\n",
              "   <g id=\"patch_2\">\n",
              "    <path d=\"M 36.465625 224.64 \n",
              "L 371.265625 224.64 \n",
              "L 371.265625 7.2 \n",
              "L 36.465625 7.2 \n",
              "z\n",
              "\" style=\"fill:#ffffff;\"/>\n",
              "   </g>\n",
              "   <g id=\"patch_3\">\n",
              "    <path clip-path=\"url(#p5db55af7e1)\" d=\"M 65.518518 224.64 \n",
              "L 76.586286 224.64 \n",
              "L 76.586286 218.608377 \n",
              "L 65.518518 218.608377 \n",
              "z\n",
              "\" style=\"fill:#1f77b4;\"/>\n",
              "   </g>\n",
              "   <g id=\"patch_4\">\n",
              "    <path clip-path=\"url(#p5db55af7e1)\" d=\"M 76.586286 224.64 \n",
              "L 87.654055 224.64 \n",
              "L 87.654055 210.566214 \n",
              "L 76.586286 210.566214 \n",
              "z\n",
              "\" style=\"fill:#1f77b4;\"/>\n",
              "   </g>\n",
              "   <g id=\"patch_5\">\n",
              "    <path clip-path=\"url(#p5db55af7e1)\" d=\"M 87.654055 224.64 \n",
              "L 98.721823 224.64 \n",
              "L 98.721823 206.545132 \n",
              "L 87.654055 206.545132 \n",
              "z\n",
              "\" style=\"fill:#1f77b4;\"/>\n",
              "   </g>\n",
              "   <g id=\"patch_6\">\n",
              "    <path clip-path=\"url(#p5db55af7e1)\" d=\"M 98.721823 224.64 \n",
              "L 109.789592 224.64 \n",
              "L 109.789592 202.52405 \n",
              "L 98.721823 202.52405 \n",
              "z\n",
              "\" style=\"fill:#1f77b4;\"/>\n",
              "   </g>\n",
              "   <g id=\"patch_7\">\n",
              "    <path clip-path=\"url(#p5db55af7e1)\" d=\"M 109.789592 224.64 \n",
              "L 120.857361 224.64 \n",
              "L 120.857361 190.460804 \n",
              "L 109.789592 190.460804 \n",
              "z\n",
              "\" style=\"fill:#1f77b4;\"/>\n",
              "   </g>\n",
              "   <g id=\"patch_8\">\n",
              "    <path clip-path=\"url(#p5db55af7e1)\" d=\"M 120.857361 224.64 \n",
              "L 131.925129 224.64 \n",
              "L 131.925129 126.123495 \n",
              "L 120.857361 126.123495 \n",
              "z\n",
              "\" style=\"fill:#1f77b4;\"/>\n",
              "   </g>\n",
              "   <g id=\"patch_9\">\n",
              "    <path clip-path=\"url(#p5db55af7e1)\" d=\"M 131.925129 224.64 \n",
              "L 142.992898 224.64 \n",
              "L 142.992898 138.186741 \n",
              "L 131.925129 138.186741 \n",
              "z\n",
              "\" style=\"fill:#1f77b4;\"/>\n",
              "   </g>\n",
              "   <g id=\"patch_10\">\n",
              "    <path clip-path=\"url(#p5db55af7e1)\" d=\"M 142.992898 224.64 \n",
              "L 154.060666 224.64 \n",
              "L 154.060666 110.039168 \n",
              "L 142.992898 110.039168 \n",
              "z\n",
              "\" style=\"fill:#1f77b4;\"/>\n",
              "   </g>\n",
              "   <g id=\"patch_11\">\n",
              "    <path clip-path=\"url(#p5db55af7e1)\" d=\"M 154.060666 224.64 \n",
              "L 165.128435 224.64 \n",
              "L 165.128435 108.028627 \n",
              "L 154.060666 108.028627 \n",
              "z\n",
              "\" style=\"fill:#1f77b4;\"/>\n",
              "   </g>\n",
              "   <g id=\"patch_12\">\n",
              "    <path clip-path=\"url(#p5db55af7e1)\" d=\"M 165.128435 224.64 \n",
              "L 176.196204 224.64 \n",
              "L 176.196204 23.585908 \n",
              "L 165.128435 23.585908 \n",
              "z\n",
              "\" style=\"fill:#1f77b4;\"/>\n",
              "   </g>\n",
              "   <g id=\"patch_13\">\n",
              "    <path clip-path=\"url(#p5db55af7e1)\" d=\"M 176.196204 224.64 \n",
              "L 187.263972 224.64 \n",
              "L 187.263972 43.691318 \n",
              "L 176.196204 43.691318 \n",
              "z\n",
              "\" style=\"fill:#1f77b4;\"/>\n",
              "   </g>\n",
              "   <g id=\"patch_14\">\n",
              "    <path clip-path=\"url(#p5db55af7e1)\" d=\"M 187.263972 224.64 \n",
              "L 198.331741 224.64 \n",
              "L 198.331741 17.554286 \n",
              "L 187.263972 17.554286 \n",
              "z\n",
              "\" style=\"fill:#1f77b4;\"/>\n",
              "   </g>\n",
              "   <g id=\"patch_15\">\n",
              "    <path clip-path=\"url(#p5db55af7e1)\" d=\"M 198.331741 224.64 \n",
              "L 209.399509 224.64 \n",
              "L 209.399509 55.754563 \n",
              "L 198.331741 55.754563 \n",
              "z\n",
              "\" style=\"fill:#1f77b4;\"/>\n",
              "   </g>\n",
              "   <g id=\"patch_16\">\n",
              "    <path clip-path=\"url(#p5db55af7e1)\" d=\"M 209.399509 224.64 \n",
              "L 220.467278 224.64 \n",
              "L 220.467278 67.817809 \n",
              "L 209.399509 67.817809 \n",
              "z\n",
              "\" style=\"fill:#1f77b4;\"/>\n",
              "   </g>\n",
              "   <g id=\"patch_17\">\n",
              "    <path clip-path=\"url(#p5db55af7e1)\" d=\"M 220.467278 224.64 \n",
              "L 231.535046 224.64 \n",
              "L 231.535046 71.83889 \n",
              "L 220.467278 71.83889 \n",
              "z\n",
              "\" style=\"fill:#1f77b4;\"/>\n",
              "   </g>\n",
              "   <g id=\"patch_18\">\n",
              "    <path clip-path=\"url(#p5db55af7e1)\" d=\"M 231.535046 224.64 \n",
              "L 242.602815 224.64 \n",
              "L 242.602815 101.997004 \n",
              "L 231.535046 101.997004 \n",
              "z\n",
              "\" style=\"fill:#1f77b4;\"/>\n",
              "   </g>\n",
              "   <g id=\"patch_19\">\n",
              "    <path clip-path=\"url(#p5db55af7e1)\" d=\"M 242.602815 224.64 \n",
              "L 253.670584 224.64 \n",
              "L 253.670584 124.112954 \n",
              "L 242.602815 124.112954 \n",
              "z\n",
              "\" style=\"fill:#1f77b4;\"/>\n",
              "   </g>\n",
              "   <g id=\"patch_20\">\n",
              "    <path clip-path=\"url(#p5db55af7e1)\" d=\"M 253.670584 224.64 \n",
              "L 264.738352 224.64 \n",
              "L 264.738352 154.271068 \n",
              "L 253.670584 154.271068 \n",
              "z\n",
              "\" style=\"fill:#1f77b4;\"/>\n",
              "   </g>\n",
              "   <g id=\"patch_21\">\n",
              "    <path clip-path=\"url(#p5db55af7e1)\" d=\"M 264.738352 224.64 \n",
              "L 275.806121 224.64 \n",
              "L 275.806121 162.313232 \n",
              "L 264.738352 162.313232 \n",
              "z\n",
              "\" style=\"fill:#1f77b4;\"/>\n",
              "   </g>\n",
              "   <g id=\"patch_22\">\n",
              "    <path clip-path=\"url(#p5db55af7e1)\" d=\"M 275.806121 224.64 \n",
              "L 286.873889 224.64 \n",
              "L 286.873889 198.502968 \n",
              "L 275.806121 198.502968 \n",
              "z\n",
              "\" style=\"fill:#1f77b4;\"/>\n",
              "   </g>\n",
              "   <g id=\"patch_23\">\n",
              "    <path clip-path=\"url(#p5db55af7e1)\" d=\"M 286.873889 224.64 \n",
              "L 297.941658 224.64 \n",
              "L 297.941658 206.545132 \n",
              "L 286.873889 206.545132 \n",
              "z\n",
              "\" style=\"fill:#1f77b4;\"/>\n",
              "   </g>\n",
              "   <g id=\"patch_24\">\n",
              "    <path clip-path=\"url(#p5db55af7e1)\" d=\"M 297.941658 224.64 \n",
              "L 309.009427 224.64 \n",
              "L 309.009427 214.587295 \n",
              "L 297.941658 214.587295 \n",
              "z\n",
              "\" style=\"fill:#1f77b4;\"/>\n",
              "   </g>\n",
              "   <g id=\"patch_25\">\n",
              "    <path clip-path=\"url(#p5db55af7e1)\" d=\"M 309.009427 224.64 \n",
              "L 320.077195 224.64 \n",
              "L 320.077195 214.587295 \n",
              "L 309.009427 214.587295 \n",
              "z\n",
              "\" style=\"fill:#1f77b4;\"/>\n",
              "   </g>\n",
              "   <g id=\"patch_26\">\n",
              "    <path clip-path=\"url(#p5db55af7e1)\" d=\"M 320.077195 224.64 \n",
              "L 331.144964 224.64 \n",
              "L 331.144964 216.597836 \n",
              "L 320.077195 216.597836 \n",
              "z\n",
              "\" style=\"fill:#1f77b4;\"/>\n",
              "   </g>\n",
              "   <g id=\"patch_27\">\n",
              "    <path clip-path=\"url(#p5db55af7e1)\" d=\"M 331.144964 224.64 \n",
              "L 342.212732 224.64 \n",
              "L 342.212732 220.618918 \n",
              "L 331.144964 220.618918 \n",
              "z\n",
              "\" style=\"fill:#1f77b4;\"/>\n",
              "   </g>\n",
              "   <g id=\"matplotlib.axis_1\">\n",
              "    <g id=\"xtick_1\">\n",
              "     <g id=\"line2d_1\">\n",
              "      <defs>\n",
              "       <path d=\"M 0 0 \n",
              "L 0 3.5 \n",
              "\" id=\"m6767c0aab5\" style=\"stroke:#000000;stroke-width:0.8;\"/>\n",
              "      </defs>\n",
              "      <g>\n",
              "       <use style=\"stroke:#000000;stroke-width:0.8;\" x=\"58.500887\" xlink:href=\"#m6767c0aab5\" y=\"224.64\"/>\n",
              "      </g>\n",
              "     </g>\n",
              "     <g id=\"text_1\">\n",
              "      <!-- 0.14 -->\n",
              "      <g transform=\"translate(47.368075 239.238437)scale(0.1 -0.1)\">\n",
              "       <defs>\n",
              "        <path d=\"M 31.78125 66.40625 \n",
              "Q 24.171875 66.40625 20.328125 58.90625 \n",
              "Q 16.5 51.421875 16.5 36.375 \n",
              "Q 16.5 21.390625 20.328125 13.890625 \n",
              "Q 24.171875 6.390625 31.78125 6.390625 \n",
              "Q 39.453125 6.390625 43.28125 13.890625 \n",
              "Q 47.125 21.390625 47.125 36.375 \n",
              "Q 47.125 51.421875 43.28125 58.90625 \n",
              "Q 39.453125 66.40625 31.78125 66.40625 \n",
              "z\n",
              "M 31.78125 74.21875 \n",
              "Q 44.046875 74.21875 50.515625 64.515625 \n",
              "Q 56.984375 54.828125 56.984375 36.375 \n",
              "Q 56.984375 17.96875 50.515625 8.265625 \n",
              "Q 44.046875 -1.421875 31.78125 -1.421875 \n",
              "Q 19.53125 -1.421875 13.0625 8.265625 \n",
              "Q 6.59375 17.96875 6.59375 36.375 \n",
              "Q 6.59375 54.828125 13.0625 64.515625 \n",
              "Q 19.53125 74.21875 31.78125 74.21875 \n",
              "z\n",
              "\" id=\"DejaVuSans-48\"/>\n",
              "        <path d=\"M 10.6875 12.40625 \n",
              "L 21 12.40625 \n",
              "L 21 0 \n",
              "L 10.6875 0 \n",
              "z\n",
              "\" id=\"DejaVuSans-46\"/>\n",
              "        <path d=\"M 12.40625 8.296875 \n",
              "L 28.515625 8.296875 \n",
              "L 28.515625 63.921875 \n",
              "L 10.984375 60.40625 \n",
              "L 10.984375 69.390625 \n",
              "L 28.421875 72.90625 \n",
              "L 38.28125 72.90625 \n",
              "L 38.28125 8.296875 \n",
              "L 54.390625 8.296875 \n",
              "L 54.390625 0 \n",
              "L 12.40625 0 \n",
              "z\n",
              "\" id=\"DejaVuSans-49\"/>\n",
              "        <path d=\"M 37.796875 64.3125 \n",
              "L 12.890625 25.390625 \n",
              "L 37.796875 25.390625 \n",
              "z\n",
              "M 35.203125 72.90625 \n",
              "L 47.609375 72.90625 \n",
              "L 47.609375 25.390625 \n",
              "L 58.015625 25.390625 \n",
              "L 58.015625 17.1875 \n",
              "L 47.609375 17.1875 \n",
              "L 47.609375 0 \n",
              "L 37.796875 0 \n",
              "L 37.796875 17.1875 \n",
              "L 4.890625 17.1875 \n",
              "L 4.890625 26.703125 \n",
              "z\n",
              "\" id=\"DejaVuSans-52\"/>\n",
              "       </defs>\n",
              "       <use xlink:href=\"#DejaVuSans-48\"/>\n",
              "       <use x=\"63.623047\" xlink:href=\"#DejaVuSans-46\"/>\n",
              "       <use x=\"95.410156\" xlink:href=\"#DejaVuSans-49\"/>\n",
              "       <use x=\"159.033203\" xlink:href=\"#DejaVuSans-52\"/>\n",
              "      </g>\n",
              "     </g>\n",
              "    </g>\n",
              "    <g id=\"xtick_2\">\n",
              "     <g id=\"line2d_2\">\n",
              "      <g>\n",
              "       <use style=\"stroke:#000000;stroke-width:0.8;\" x=\"103.995509\" xlink:href=\"#m6767c0aab5\" y=\"224.64\"/>\n",
              "      </g>\n",
              "     </g>\n",
              "     <g id=\"text_2\">\n",
              "      <!-- 0.16 -->\n",
              "      <g transform=\"translate(92.862697 239.238437)scale(0.1 -0.1)\">\n",
              "       <defs>\n",
              "        <path d=\"M 33.015625 40.375 \n",
              "Q 26.375 40.375 22.484375 35.828125 \n",
              "Q 18.609375 31.296875 18.609375 23.390625 \n",
              "Q 18.609375 15.53125 22.484375 10.953125 \n",
              "Q 26.375 6.390625 33.015625 6.390625 \n",
              "Q 39.65625 6.390625 43.53125 10.953125 \n",
              "Q 47.40625 15.53125 47.40625 23.390625 \n",
              "Q 47.40625 31.296875 43.53125 35.828125 \n",
              "Q 39.65625 40.375 33.015625 40.375 \n",
              "z\n",
              "M 52.59375 71.296875 \n",
              "L 52.59375 62.3125 \n",
              "Q 48.875 64.0625 45.09375 64.984375 \n",
              "Q 41.3125 65.921875 37.59375 65.921875 \n",
              "Q 27.828125 65.921875 22.671875 59.328125 \n",
              "Q 17.53125 52.734375 16.796875 39.40625 \n",
              "Q 19.671875 43.65625 24.015625 45.921875 \n",
              "Q 28.375 48.1875 33.59375 48.1875 \n",
              "Q 44.578125 48.1875 50.953125 41.515625 \n",
              "Q 57.328125 34.859375 57.328125 23.390625 \n",
              "Q 57.328125 12.15625 50.6875 5.359375 \n",
              "Q 44.046875 -1.421875 33.015625 -1.421875 \n",
              "Q 20.359375 -1.421875 13.671875 8.265625 \n",
              "Q 6.984375 17.96875 6.984375 36.375 \n",
              "Q 6.984375 53.65625 15.1875 63.9375 \n",
              "Q 23.390625 74.21875 37.203125 74.21875 \n",
              "Q 40.921875 74.21875 44.703125 73.484375 \n",
              "Q 48.484375 72.75 52.59375 71.296875 \n",
              "z\n",
              "\" id=\"DejaVuSans-54\"/>\n",
              "       </defs>\n",
              "       <use xlink:href=\"#DejaVuSans-48\"/>\n",
              "       <use x=\"63.623047\" xlink:href=\"#DejaVuSans-46\"/>\n",
              "       <use x=\"95.410156\" xlink:href=\"#DejaVuSans-49\"/>\n",
              "       <use x=\"159.033203\" xlink:href=\"#DejaVuSans-54\"/>\n",
              "      </g>\n",
              "     </g>\n",
              "    </g>\n",
              "    <g id=\"xtick_3\">\n",
              "     <g id=\"line2d_3\">\n",
              "      <g>\n",
              "       <use style=\"stroke:#000000;stroke-width:0.8;\" x=\"149.490132\" xlink:href=\"#m6767c0aab5\" y=\"224.64\"/>\n",
              "      </g>\n",
              "     </g>\n",
              "     <g id=\"text_3\">\n",
              "      <!-- 0.18 -->\n",
              "      <g transform=\"translate(138.357319 239.238437)scale(0.1 -0.1)\">\n",
              "       <defs>\n",
              "        <path d=\"M 31.78125 34.625 \n",
              "Q 24.75 34.625 20.71875 30.859375 \n",
              "Q 16.703125 27.09375 16.703125 20.515625 \n",
              "Q 16.703125 13.921875 20.71875 10.15625 \n",
              "Q 24.75 6.390625 31.78125 6.390625 \n",
              "Q 38.8125 6.390625 42.859375 10.171875 \n",
              "Q 46.921875 13.96875 46.921875 20.515625 \n",
              "Q 46.921875 27.09375 42.890625 30.859375 \n",
              "Q 38.875 34.625 31.78125 34.625 \n",
              "z\n",
              "M 21.921875 38.8125 \n",
              "Q 15.578125 40.375 12.03125 44.71875 \n",
              "Q 8.5 49.078125 8.5 55.328125 \n",
              "Q 8.5 64.0625 14.71875 69.140625 \n",
              "Q 20.953125 74.21875 31.78125 74.21875 \n",
              "Q 42.671875 74.21875 48.875 69.140625 \n",
              "Q 55.078125 64.0625 55.078125 55.328125 \n",
              "Q 55.078125 49.078125 51.53125 44.71875 \n",
              "Q 48 40.375 41.703125 38.8125 \n",
              "Q 48.828125 37.15625 52.796875 32.3125 \n",
              "Q 56.78125 27.484375 56.78125 20.515625 \n",
              "Q 56.78125 9.90625 50.3125 4.234375 \n",
              "Q 43.84375 -1.421875 31.78125 -1.421875 \n",
              "Q 19.734375 -1.421875 13.25 4.234375 \n",
              "Q 6.78125 9.90625 6.78125 20.515625 \n",
              "Q 6.78125 27.484375 10.78125 32.3125 \n",
              "Q 14.796875 37.15625 21.921875 38.8125 \n",
              "z\n",
              "M 18.3125 54.390625 \n",
              "Q 18.3125 48.734375 21.84375 45.5625 \n",
              "Q 25.390625 42.390625 31.78125 42.390625 \n",
              "Q 38.140625 42.390625 41.71875 45.5625 \n",
              "Q 45.3125 48.734375 45.3125 54.390625 \n",
              "Q 45.3125 60.0625 41.71875 63.234375 \n",
              "Q 38.140625 66.40625 31.78125 66.40625 \n",
              "Q 25.390625 66.40625 21.84375 63.234375 \n",
              "Q 18.3125 60.0625 18.3125 54.390625 \n",
              "z\n",
              "\" id=\"DejaVuSans-56\"/>\n",
              "       </defs>\n",
              "       <use xlink:href=\"#DejaVuSans-48\"/>\n",
              "       <use x=\"63.623047\" xlink:href=\"#DejaVuSans-46\"/>\n",
              "       <use x=\"95.410156\" xlink:href=\"#DejaVuSans-49\"/>\n",
              "       <use x=\"159.033203\" xlink:href=\"#DejaVuSans-56\"/>\n",
              "      </g>\n",
              "     </g>\n",
              "    </g>\n",
              "    <g id=\"xtick_4\">\n",
              "     <g id=\"line2d_4\">\n",
              "      <g>\n",
              "       <use style=\"stroke:#000000;stroke-width:0.8;\" x=\"194.984754\" xlink:href=\"#m6767c0aab5\" y=\"224.64\"/>\n",
              "      </g>\n",
              "     </g>\n",
              "     <g id=\"text_4\">\n",
              "      <!-- 0.20 -->\n",
              "      <g transform=\"translate(183.851941 239.238437)scale(0.1 -0.1)\">\n",
              "       <defs>\n",
              "        <path d=\"M 19.1875 8.296875 \n",
              "L 53.609375 8.296875 \n",
              "L 53.609375 0 \n",
              "L 7.328125 0 \n",
              "L 7.328125 8.296875 \n",
              "Q 12.9375 14.109375 22.625 23.890625 \n",
              "Q 32.328125 33.6875 34.8125 36.53125 \n",
              "Q 39.546875 41.84375 41.421875 45.53125 \n",
              "Q 43.3125 49.21875 43.3125 52.78125 \n",
              "Q 43.3125 58.59375 39.234375 62.25 \n",
              "Q 35.15625 65.921875 28.609375 65.921875 \n",
              "Q 23.96875 65.921875 18.8125 64.3125 \n",
              "Q 13.671875 62.703125 7.8125 59.421875 \n",
              "L 7.8125 69.390625 \n",
              "Q 13.765625 71.78125 18.9375 73 \n",
              "Q 24.125 74.21875 28.421875 74.21875 \n",
              "Q 39.75 74.21875 46.484375 68.546875 \n",
              "Q 53.21875 62.890625 53.21875 53.421875 \n",
              "Q 53.21875 48.921875 51.53125 44.890625 \n",
              "Q 49.859375 40.875 45.40625 35.40625 \n",
              "Q 44.1875 33.984375 37.640625 27.21875 \n",
              "Q 31.109375 20.453125 19.1875 8.296875 \n",
              "z\n",
              "\" id=\"DejaVuSans-50\"/>\n",
              "       </defs>\n",
              "       <use xlink:href=\"#DejaVuSans-48\"/>\n",
              "       <use x=\"63.623047\" xlink:href=\"#DejaVuSans-46\"/>\n",
              "       <use x=\"95.410156\" xlink:href=\"#DejaVuSans-50\"/>\n",
              "       <use x=\"159.033203\" xlink:href=\"#DejaVuSans-48\"/>\n",
              "      </g>\n",
              "     </g>\n",
              "    </g>\n",
              "    <g id=\"xtick_5\">\n",
              "     <g id=\"line2d_5\">\n",
              "      <g>\n",
              "       <use style=\"stroke:#000000;stroke-width:0.8;\" x=\"240.479376\" xlink:href=\"#m6767c0aab5\" y=\"224.64\"/>\n",
              "      </g>\n",
              "     </g>\n",
              "     <g id=\"text_5\">\n",
              "      <!-- 0.22 -->\n",
              "      <g transform=\"translate(229.346563 239.238437)scale(0.1 -0.1)\">\n",
              "       <use xlink:href=\"#DejaVuSans-48\"/>\n",
              "       <use x=\"63.623047\" xlink:href=\"#DejaVuSans-46\"/>\n",
              "       <use x=\"95.410156\" xlink:href=\"#DejaVuSans-50\"/>\n",
              "       <use x=\"159.033203\" xlink:href=\"#DejaVuSans-50\"/>\n",
              "      </g>\n",
              "     </g>\n",
              "    </g>\n",
              "    <g id=\"xtick_6\">\n",
              "     <g id=\"line2d_6\">\n",
              "      <g>\n",
              "       <use style=\"stroke:#000000;stroke-width:0.8;\" x=\"285.973998\" xlink:href=\"#m6767c0aab5\" y=\"224.64\"/>\n",
              "      </g>\n",
              "     </g>\n",
              "     <g id=\"text_6\">\n",
              "      <!-- 0.24 -->\n",
              "      <g transform=\"translate(274.841186 239.238437)scale(0.1 -0.1)\">\n",
              "       <use xlink:href=\"#DejaVuSans-48\"/>\n",
              "       <use x=\"63.623047\" xlink:href=\"#DejaVuSans-46\"/>\n",
              "       <use x=\"95.410156\" xlink:href=\"#DejaVuSans-50\"/>\n",
              "       <use x=\"159.033203\" xlink:href=\"#DejaVuSans-52\"/>\n",
              "      </g>\n",
              "     </g>\n",
              "    </g>\n",
              "    <g id=\"xtick_7\">\n",
              "     <g id=\"line2d_7\">\n",
              "      <g>\n",
              "       <use style=\"stroke:#000000;stroke-width:0.8;\" x=\"331.46862\" xlink:href=\"#m6767c0aab5\" y=\"224.64\"/>\n",
              "      </g>\n",
              "     </g>\n",
              "     <g id=\"text_7\">\n",
              "      <!-- 0.26 -->\n",
              "      <g transform=\"translate(320.335808 239.238437)scale(0.1 -0.1)\">\n",
              "       <use xlink:href=\"#DejaVuSans-48\"/>\n",
              "       <use x=\"63.623047\" xlink:href=\"#DejaVuSans-46\"/>\n",
              "       <use x=\"95.410156\" xlink:href=\"#DejaVuSans-50\"/>\n",
              "       <use x=\"159.033203\" xlink:href=\"#DejaVuSans-54\"/>\n",
              "      </g>\n",
              "     </g>\n",
              "    </g>\n",
              "   </g>\n",
              "   <g id=\"matplotlib.axis_2\">\n",
              "    <g id=\"ytick_1\">\n",
              "     <g id=\"line2d_8\">\n",
              "      <defs>\n",
              "       <path d=\"M 0 0 \n",
              "L -3.5 0 \n",
              "\" id=\"m1b81b5157b\" style=\"stroke:#000000;stroke-width:0.8;\"/>\n",
              "      </defs>\n",
              "      <g>\n",
              "       <use style=\"stroke:#000000;stroke-width:0.8;\" x=\"36.465625\" xlink:href=\"#m1b81b5157b\" y=\"224.64\"/>\n",
              "      </g>\n",
              "     </g>\n",
              "     <g id=\"text_8\">\n",
              "      <!-- 0.0 -->\n",
              "      <g transform=\"translate(13.5625 228.439219)scale(0.1 -0.1)\">\n",
              "       <use xlink:href=\"#DejaVuSans-48\"/>\n",
              "       <use x=\"63.623047\" xlink:href=\"#DejaVuSans-46\"/>\n",
              "       <use x=\"95.410156\" xlink:href=\"#DejaVuSans-48\"/>\n",
              "      </g>\n",
              "     </g>\n",
              "    </g>\n",
              "    <g id=\"ytick_2\">\n",
              "     <g id=\"line2d_9\">\n",
              "      <g>\n",
              "       <use style=\"stroke:#000000;stroke-width:0.8;\" x=\"36.465625\" xlink:href=\"#m1b81b5157b\" y=\"200.184141\"/>\n",
              "      </g>\n",
              "     </g>\n",
              "     <g id=\"text_9\">\n",
              "      <!-- 2.5 -->\n",
              "      <g transform=\"translate(13.5625 203.983359)scale(0.1 -0.1)\">\n",
              "       <defs>\n",
              "        <path d=\"M 10.796875 72.90625 \n",
              "L 49.515625 72.90625 \n",
              "L 49.515625 64.59375 \n",
              "L 19.828125 64.59375 \n",
              "L 19.828125 46.734375 \n",
              "Q 21.96875 47.46875 24.109375 47.828125 \n",
              "Q 26.265625 48.1875 28.421875 48.1875 \n",
              "Q 40.625 48.1875 47.75 41.5 \n",
              "Q 54.890625 34.8125 54.890625 23.390625 \n",
              "Q 54.890625 11.625 47.5625 5.09375 \n",
              "Q 40.234375 -1.421875 26.90625 -1.421875 \n",
              "Q 22.3125 -1.421875 17.546875 -0.640625 \n",
              "Q 12.796875 0.140625 7.71875 1.703125 \n",
              "L 7.71875 11.625 \n",
              "Q 12.109375 9.234375 16.796875 8.0625 \n",
              "Q 21.484375 6.890625 26.703125 6.890625 \n",
              "Q 35.15625 6.890625 40.078125 11.328125 \n",
              "Q 45.015625 15.765625 45.015625 23.390625 \n",
              "Q 45.015625 31 40.078125 35.4375 \n",
              "Q 35.15625 39.890625 26.703125 39.890625 \n",
              "Q 22.75 39.890625 18.8125 39.015625 \n",
              "Q 14.890625 38.140625 10.796875 36.28125 \n",
              "z\n",
              "\" id=\"DejaVuSans-53\"/>\n",
              "       </defs>\n",
              "       <use xlink:href=\"#DejaVuSans-50\"/>\n",
              "       <use x=\"63.623047\" xlink:href=\"#DejaVuSans-46\"/>\n",
              "       <use x=\"95.410156\" xlink:href=\"#DejaVuSans-53\"/>\n",
              "      </g>\n",
              "     </g>\n",
              "    </g>\n",
              "    <g id=\"ytick_3\">\n",
              "     <g id=\"line2d_10\">\n",
              "      <g>\n",
              "       <use style=\"stroke:#000000;stroke-width:0.8;\" x=\"36.465625\" xlink:href=\"#m1b81b5157b\" y=\"175.728281\"/>\n",
              "      </g>\n",
              "     </g>\n",
              "     <g id=\"text_10\">\n",
              "      <!-- 5.0 -->\n",
              "      <g transform=\"translate(13.5625 179.5275)scale(0.1 -0.1)\">\n",
              "       <use xlink:href=\"#DejaVuSans-53\"/>\n",
              "       <use x=\"63.623047\" xlink:href=\"#DejaVuSans-46\"/>\n",
              "       <use x=\"95.410156\" xlink:href=\"#DejaVuSans-48\"/>\n",
              "      </g>\n",
              "     </g>\n",
              "    </g>\n",
              "    <g id=\"ytick_4\">\n",
              "     <g id=\"line2d_11\">\n",
              "      <g>\n",
              "       <use style=\"stroke:#000000;stroke-width:0.8;\" x=\"36.465625\" xlink:href=\"#m1b81b5157b\" y=\"151.272422\"/>\n",
              "      </g>\n",
              "     </g>\n",
              "     <g id=\"text_11\">\n",
              "      <!-- 7.5 -->\n",
              "      <g transform=\"translate(13.5625 155.071641)scale(0.1 -0.1)\">\n",
              "       <defs>\n",
              "        <path d=\"M 8.203125 72.90625 \n",
              "L 55.078125 72.90625 \n",
              "L 55.078125 68.703125 \n",
              "L 28.609375 0 \n",
              "L 18.3125 0 \n",
              "L 43.21875 64.59375 \n",
              "L 8.203125 64.59375 \n",
              "z\n",
              "\" id=\"DejaVuSans-55\"/>\n",
              "       </defs>\n",
              "       <use xlink:href=\"#DejaVuSans-55\"/>\n",
              "       <use x=\"63.623047\" xlink:href=\"#DejaVuSans-46\"/>\n",
              "       <use x=\"95.410156\" xlink:href=\"#DejaVuSans-53\"/>\n",
              "      </g>\n",
              "     </g>\n",
              "    </g>\n",
              "    <g id=\"ytick_5\">\n",
              "     <g id=\"line2d_12\">\n",
              "      <g>\n",
              "       <use style=\"stroke:#000000;stroke-width:0.8;\" x=\"36.465625\" xlink:href=\"#m1b81b5157b\" y=\"126.816563\"/>\n",
              "      </g>\n",
              "     </g>\n",
              "     <g id=\"text_12\">\n",
              "      <!-- 10.0 -->\n",
              "      <g transform=\"translate(7.2 130.615781)scale(0.1 -0.1)\">\n",
              "       <use xlink:href=\"#DejaVuSans-49\"/>\n",
              "       <use x=\"63.623047\" xlink:href=\"#DejaVuSans-48\"/>\n",
              "       <use x=\"127.246094\" xlink:href=\"#DejaVuSans-46\"/>\n",
              "       <use x=\"159.033203\" xlink:href=\"#DejaVuSans-48\"/>\n",
              "      </g>\n",
              "     </g>\n",
              "    </g>\n",
              "    <g id=\"ytick_6\">\n",
              "     <g id=\"line2d_13\">\n",
              "      <g>\n",
              "       <use style=\"stroke:#000000;stroke-width:0.8;\" x=\"36.465625\" xlink:href=\"#m1b81b5157b\" y=\"102.360703\"/>\n",
              "      </g>\n",
              "     </g>\n",
              "     <g id=\"text_13\">\n",
              "      <!-- 12.5 -->\n",
              "      <g transform=\"translate(7.2 106.159922)scale(0.1 -0.1)\">\n",
              "       <use xlink:href=\"#DejaVuSans-49\"/>\n",
              "       <use x=\"63.623047\" xlink:href=\"#DejaVuSans-50\"/>\n",
              "       <use x=\"127.246094\" xlink:href=\"#DejaVuSans-46\"/>\n",
              "       <use x=\"159.033203\" xlink:href=\"#DejaVuSans-53\"/>\n",
              "      </g>\n",
              "     </g>\n",
              "    </g>\n",
              "    <g id=\"ytick_7\">\n",
              "     <g id=\"line2d_14\">\n",
              "      <g>\n",
              "       <use style=\"stroke:#000000;stroke-width:0.8;\" x=\"36.465625\" xlink:href=\"#m1b81b5157b\" y=\"77.904844\"/>\n",
              "      </g>\n",
              "     </g>\n",
              "     <g id=\"text_14\">\n",
              "      <!-- 15.0 -->\n",
              "      <g transform=\"translate(7.2 81.704063)scale(0.1 -0.1)\">\n",
              "       <use xlink:href=\"#DejaVuSans-49\"/>\n",
              "       <use x=\"63.623047\" xlink:href=\"#DejaVuSans-53\"/>\n",
              "       <use x=\"127.246094\" xlink:href=\"#DejaVuSans-46\"/>\n",
              "       <use x=\"159.033203\" xlink:href=\"#DejaVuSans-48\"/>\n",
              "      </g>\n",
              "     </g>\n",
              "    </g>\n",
              "    <g id=\"ytick_8\">\n",
              "     <g id=\"line2d_15\">\n",
              "      <g>\n",
              "       <use style=\"stroke:#000000;stroke-width:0.8;\" x=\"36.465625\" xlink:href=\"#m1b81b5157b\" y=\"53.448985\"/>\n",
              "      </g>\n",
              "     </g>\n",
              "     <g id=\"text_15\">\n",
              "      <!-- 17.5 -->\n",
              "      <g transform=\"translate(7.2 57.248203)scale(0.1 -0.1)\">\n",
              "       <use xlink:href=\"#DejaVuSans-49\"/>\n",
              "       <use x=\"63.623047\" xlink:href=\"#DejaVuSans-55\"/>\n",
              "       <use x=\"127.246094\" xlink:href=\"#DejaVuSans-46\"/>\n",
              "       <use x=\"159.033203\" xlink:href=\"#DejaVuSans-53\"/>\n",
              "      </g>\n",
              "     </g>\n",
              "    </g>\n",
              "    <g id=\"ytick_9\">\n",
              "     <g id=\"line2d_16\">\n",
              "      <g>\n",
              "       <use style=\"stroke:#000000;stroke-width:0.8;\" x=\"36.465625\" xlink:href=\"#m1b81b5157b\" y=\"28.993125\"/>\n",
              "      </g>\n",
              "     </g>\n",
              "     <g id=\"text_16\">\n",
              "      <!-- 20.0 -->\n",
              "      <g transform=\"translate(7.2 32.792344)scale(0.1 -0.1)\">\n",
              "       <use xlink:href=\"#DejaVuSans-50\"/>\n",
              "       <use x=\"63.623047\" xlink:href=\"#DejaVuSans-48\"/>\n",
              "       <use x=\"127.246094\" xlink:href=\"#DejaVuSans-46\"/>\n",
              "       <use x=\"159.033203\" xlink:href=\"#DejaVuSans-48\"/>\n",
              "      </g>\n",
              "     </g>\n",
              "    </g>\n",
              "   </g>\n",
              "   <g id=\"line2d_17\">\n",
              "    <path clip-path=\"url(#p5db55af7e1)\" d=\"M 51.683807 223.272607 \n",
              "L 57.783278 222.572751 \n",
              "L 62.662856 221.799651 \n",
              "L 66.932486 220.924605 \n",
              "L 71.202116 219.822596 \n",
              "L 74.861799 218.663302 \n",
              "L 78.521482 217.272855 \n",
              "L 82.181165 215.617502 \n",
              "L 85.230901 214.009923 \n",
              "L 88.280637 212.172068 \n",
              "L 91.330373 210.08203 \n",
              "L 94.380109 207.717845 \n",
              "L 97.429844 205.057916 \n",
              "L 100.47958 202.081483 \n",
              "L 103.529316 198.769156 \n",
              "L 106.579052 195.103497 \n",
              "L 109.628788 191.069644 \n",
              "L 112.678524 186.655953 \n",
              "L 115.728259 181.854666 \n",
              "L 118.777995 176.662564 \n",
              "L 121.827731 171.081606 \n",
              "L 125.487414 163.882476 \n",
              "L 129.147097 156.16023 \n",
              "L 132.80678 147.954327 \n",
              "L 137.07641 137.842689 \n",
              "L 141.955988 125.716593 \n",
              "L 149.275354 106.84669 \n",
              "L 157.814614 84.883655 \n",
              "L 162.694191 72.959054 \n",
              "L 166.353874 64.565566 \n",
              "L 169.40361 58.042805 \n",
              "L 172.453346 52.03165 \n",
              "L 174.893135 47.640536 \n",
              "L 177.332923 43.658959 \n",
              "L 179.772712 40.119257 \n",
              "L 182.212501 37.050601 \n",
              "L 184.042342 35.073782 \n",
              "L 185.872184 33.38578 \n",
              "L 187.702025 31.994647 \n",
              "L 189.531867 30.907058 \n",
              "L 191.361708 30.128252 \n",
              "L 193.19155 29.661992 \n",
              "L 195.021391 29.510537 \n",
              "L 196.851233 29.674622 \n",
              "L 198.681074 30.153451 \n",
              "L 200.510916 30.944705 \n",
              "L 202.340757 32.04456 \n",
              "L 204.170599 33.447718 \n",
              "L 206.00044 35.147449 \n",
              "L 207.830282 37.135647 \n",
              "L 209.660123 39.402892 \n",
              "L 212.099912 42.841363 \n",
              "L 214.5397 46.728413 \n",
              "L 216.979489 51.032363 \n",
              "L 220.029225 56.945764 \n",
              "L 223.078961 63.38401 \n",
              "L 226.738644 71.694388 \n",
              "L 231.008274 82.021296 \n",
              "L 236.497798 95.957072 \n",
              "L 251.13653 133.538345 \n",
              "L 256.016108 145.292015 \n",
              "L 260.285738 154.98601 \n",
              "L 263.945421 162.781999 \n",
              "L 267.605104 170.059756 \n",
              "L 271.264787 176.791891 \n",
              "L 274.314523 181.974604 \n",
              "L 277.364259 186.766521 \n",
              "L 280.413994 191.170978 \n",
              "L 283.46373 195.195834 \n",
              "L 286.513466 198.852817 \n",
              "L 289.563202 202.156861 \n",
              "L 292.612938 205.125456 \n",
              "L 295.662674 207.778031 \n",
              "L 298.712409 210.135373 \n",
              "L 301.762145 212.219094 \n",
              "L 304.811881 214.05116 \n",
              "L 307.861617 215.653473 \n",
              "L 311.5213 217.303178 \n",
              "L 315.180983 218.688673 \n",
              "L 318.840666 219.843667 \n",
              "L 323.110296 220.941415 \n",
              "L 327.379926 221.812929 \n",
              "L 332.259504 222.582771 \n",
              "L 337.749028 223.220942 \n",
              "L 344.458447 223.75633 \n",
              "L 352.38776 224.149092 \n",
              "L 356.047443 224.269555 \n",
              "L 356.047443 224.269555 \n",
              "\" style=\"fill:none;stroke:#ff7f0e;stroke-linecap:square;stroke-width:1.5;\"/>\n",
              "   </g>\n",
              "   <g id=\"patch_28\">\n",
              "    <path d=\"M 36.465625 224.64 \n",
              "L 36.465625 7.2 \n",
              "\" style=\"fill:none;stroke:#000000;stroke-linecap:square;stroke-linejoin:miter;stroke-width:0.8;\"/>\n",
              "   </g>\n",
              "   <g id=\"patch_29\">\n",
              "    <path d=\"M 371.265625 224.64 \n",
              "L 371.265625 7.2 \n",
              "\" style=\"fill:none;stroke:#000000;stroke-linecap:square;stroke-linejoin:miter;stroke-width:0.8;\"/>\n",
              "   </g>\n",
              "   <g id=\"patch_30\">\n",
              "    <path d=\"M 36.465625 224.64 \n",
              "L 371.265625 224.64 \n",
              "\" style=\"fill:none;stroke:#000000;stroke-linecap:square;stroke-linejoin:miter;stroke-width:0.8;\"/>\n",
              "   </g>\n",
              "   <g id=\"patch_31\">\n",
              "    <path d=\"M 36.465625 7.2 \n",
              "L 371.265625 7.2 \n",
              "\" style=\"fill:none;stroke:#000000;stroke-linecap:square;stroke-linejoin:miter;stroke-width:0.8;\"/>\n",
              "   </g>\n",
              "  </g>\n",
              " </g>\n",
              " <defs>\n",
              "  <clipPath id=\"p5db55af7e1\">\n",
              "   <rect height=\"217.44\" width=\"334.8\" x=\"36.465625\" y=\"7.2\"/>\n",
              "  </clipPath>\n",
              " </defs>\n",
              "</svg>\n"
            ],
            "text/plain": [
              "<Figure size 432x288 with 1 Axes>"
            ]
          },
          "metadata": {
            "needs_background": "light"
          },
          "output_type": "display_data"
        }
      ]
    },
    {
      "cell_type": "code",
      "metadata": {
        "id": "WcRutSR4gKTf"
      },
      "source": [
        ""
      ],
      "execution_count": null,
      "outputs": []
    }
  ]
}