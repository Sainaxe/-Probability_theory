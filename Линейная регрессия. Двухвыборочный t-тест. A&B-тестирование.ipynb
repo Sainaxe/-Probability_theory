{
 "cells": [
  {
   "cell_type": "code",
   "execution_count": 2,
   "id": "b46ea209",
   "metadata": {},
   "outputs": [],
   "source": [
    "import pandas as pd\n",
    "import numpy as np\n",
    "import matplotlib.pyplot as plt\n",
    "from scipy import stats\n",
    "from sklearn.linear_model import LinearRegression\n",
    "\n",
    "%matplotlib inline\n",
    "plt.style.use('seaborn-whitegrid')\n",
    "%config InlineBackend.figure_formats = ['svg']"
   ]
  },
  {
   "cell_type": "markdown",
   "id": "cebd4ab9",
   "metadata": {},
   "source": [
    "__Задача 1__\n",
    "\n",
    "Дана матрица объект-признак\n",
    "```\n",
    "X = [[ 1.22401313,  2.30868478,  3.03636353,  2.69287214],\n",
    "     [-0.18757272,  1.30337355,  5.12093014,  3.46363202],\n",
    "     [-0.81094525,  1.82463398,  5.79686488,  1.86159445],\n",
    "     [ 0.75129018,  2.67392052,  3.65529809,  1.66746094],\n",
    "     [ 0.00972362,  1.97367255,  2.50594319,  1.69755173],\n",
    "     [-0.62972637,  0.77750764,  2.84124027,  4.54410559],\n",
    "     [ 2.29536229,  1.81206697,  1.95026215,  1.51874636],\n",
    "     [ 0.0920418 ,  2.26971361,  7.47708735,  2.61081203],\n",
    "     [ 2.39252799,  3.17563985,  3.61420599,  5.10773362],\n",
    "     [ 0.54983815,  2.87988651,  1.65752765,  1.59635987]]\n",
    "```\n",
    "и значения целевой переменной\n",
    "```\n",
    "y = [ 9.26193358,  9.700363  ,  8.67214805,  8.74796974,  6.18689108,\n",
    "      7.53312713,  7.57643777, 12.44965478, 14.29010746,  6.68361218]\n",
    "```\n",
    "\n",
    "Подберите два признака (из четырёх) так, чтобы уровень линейной зависимости целевой переменной от значений этих признаков был максимальным. Другими словами, модель линейной регрессии на этих признаках должна давать наилучший результат. В качестве ответа запишите значение коэффициента детерминации для модели на этих признаках.\n",
    "\n",
    "__Ответ__: 0.76342462"
   ]
  },
  {
   "cell_type": "code",
   "execution_count": 63,
   "id": "c6d78288",
   "metadata": {},
   "outputs": [],
   "source": [
    "X = np.array([[ 1.22401313,  2.30868478,  3.03636353,  2.69287214],\n",
    "     [-0.18757272,  1.30337355,  5.12093014,  3.46363202],\n",
    "     [-0.81094525,  1.82463398,  5.79686488,  1.86159445],\n",
    "     [ 0.75129018,  2.67392052,  3.65529809,  1.66746094],\n",
    "     [ 0.00972362,  1.97367255,  2.50594319,  1.69755173],\n",
    "     [-0.62972637,  0.77750764,  2.84124027,  4.54410559],\n",
    "     [ 2.29536229,  1.81206697,  1.95026215,  1.51874636],\n",
    "     [ 0.0920418 ,  2.26971361,  7.47708735,  2.61081203],\n",
    "     [ 2.39252799,  3.17563985,  3.61420599,  5.10773362],\n",
    "     [ 0.54983815,  2.87988651,  1.65752765,  1.59635987]])\n",
    "y = np.array([ 9.26193358,  9.700363  ,  8.67214805,  8.74796974,  6.18689108,\n",
    "      7.53312713,  7.57643777, 12.44965478, 14.29010746,  6.68361218])"
   ]
  },
  {
   "cell_type": "code",
   "execution_count": 15,
   "id": "d941929d",
   "metadata": {},
   "outputs": [
    {
     "data": {
      "text/plain": [
       "(0.799169372949684, 1.4003156134853607, 0.8033105791949314, 1.1783848740628342)"
      ]
     },
     "execution_count": 15,
     "metadata": {},
     "output_type": "execute_result"
    }
   ],
   "source": [
    "b1 = ((X[:,0] * y).mean() - X[:,0].mean() * y.mean()) / ((X[:,0] ** 2).mean() - (X[:,0].mean() ** 2))\n",
    "b2 = ((X[:,1] * y).mean() - X[:,1].mean() * y.mean()) / ((X[:,1] ** 2).mean() - (X[:,1].mean() ** 2))\n",
    "b3 = ((X[:,2] * y).mean() - X[:,2].mean() * y.mean()) / ((X[:,2] ** 2).mean() - (X[:,2].mean() ** 2))\n",
    "b4 = ((X[:,3] * y).mean() - X[:,3].mean() * y.mean()) / ((X[:,3] ** 2).mean() - (X[:,3].mean() ** 2))\n",
    "\n",
    "b1, b2, b3, b4"
   ]
  },
  {
   "cell_type": "code",
   "execution_count": 17,
   "id": "791626b3",
   "metadata": {},
   "outputs": [
    {
     "data": {
      "text/plain": [
       "(7.290071381321261, 5.920927082625099, 7.280639551696321, 6.42638679624655)"
      ]
     },
     "execution_count": 17,
     "metadata": {},
     "output_type": "execute_result"
    }
   ],
   "source": [
    "a1 = y.mean() - b1 * X.mean()\n",
    "a2 = y.mean() - b2 * X.mean()\n",
    "a3 = y.mean() - b3 * X.mean()\n",
    "a4 = y.mean() - b4 * X.mean()\n",
    "a1, a2, a3, a4"
   ]
  },
  {
   "cell_type": "code",
   "execution_count": 33,
   "id": "85ab4af0",
   "metadata": {},
   "outputs": [
    {
     "data": {
      "text/plain": [
       "[<matplotlib.lines.Line2D at 0x259406122b0>]"
      ]
     },
     "execution_count": 33,
     "metadata": {},
     "output_type": "execute_result"
    },
    {
     "data": {
      "image/png": "[encoded data removed]",
      "text/plain": [
       "<Figure size 432x288 with 1 Axes>"
      ]
     },
     "metadata": {
      "needs_background": "light"
     },
     "output_type": "display_data"
    }
   ],
   "source": [
    "plt.scatter(X[:,0], y)\n",
    "plt.plot(X[:,0], a1 + b1 * X[:,0])"
   ]
  },
  {
   "cell_type": "code",
   "execution_count": 34,
   "id": "5f7af316",
   "metadata": {},
   "outputs": [
    {
     "data": {
      "text/plain": [
       "6.943562823335707"
      ]
     },
     "execution_count": 34,
     "metadata": {},
     "output_type": "execute_result"
    }
   ],
   "source": [
    "mse1_ = np.sum(((a1 + b1 * X[:,0]) - y) ** 2 / 10)\n",
    "mse1_"
   ]
  },
  {
   "cell_type": "code",
   "execution_count": 29,
   "id": "06b7fbea",
   "metadata": {},
   "outputs": [
    {
     "data": {
      "text/plain": [
       "[<matplotlib.lines.Line2D at 0x259404e1b80>]"
      ]
     },
     "execution_count": 29,
     "metadata": {},
     "output_type": "execute_result"
    },
    {
     "data": {
      "image/png": "[encoded data removed]",
      "text/plain": [
       "<Figure size 432x288 with 1 Axes>"
      ]
     },
     "metadata": {
      "needs_background": "light"
     },
     "output_type": "display_data"
    }
   ],
   "source": [
    "plt.scatter(X[:,1], y)\n",
    "plt.plot(X[:,1], a2 + b2 * X[:,1])"
   ]
  },
  {
   "cell_type": "code",
   "execution_count": 36,
   "id": "8f2c8397",
   "metadata": {},
   "outputs": [
    {
     "data": {
      "text/plain": [
       "4.930461442795658"
      ]
     },
     "execution_count": 36,
     "metadata": {},
     "output_type": "execute_result"
    }
   ],
   "source": [
    "mse2_ = np.sum(((a2 + b2 * X[:,1]) - y) ** 2 / 10)\n",
    "mse2_"
   ]
  },
  {
   "cell_type": "code",
   "execution_count": 30,
   "id": "1eb0e154",
   "metadata": {},
   "outputs": [
    {
     "data": {
      "text/plain": [
       "[<matplotlib.lines.Line2D at 0x25940547190>]"
      ]
     },
     "execution_count": 30,
     "metadata": {},
     "output_type": "execute_result"
    },
    {
     "data": {
      "image/png": "[encoded data removed]",
      "text/plain": [
       "<Figure size 432x288 with 1 Axes>"
      ]
     },
     "metadata": {
      "needs_background": "light"
     },
     "output_type": "display_data"
    }
   ],
   "source": [
    "plt.scatter(X[:,2], y)\n",
    "plt.plot(X[:,2], a3 + b3 * X[:,2])"
   ]
  },
  {
   "cell_type": "code",
   "execution_count": 37,
   "id": "361ca35c",
   "metadata": {},
   "outputs": [
    {
     "data": {
      "text/plain": [
       "5.2567246085300505"
      ]
     },
     "execution_count": 37,
     "metadata": {},
     "output_type": "execute_result"
    }
   ],
   "source": [
    "mse3_ = np.sum(((a3 + b3 * X[:,2]) - y) ** 2 / 10)\n",
    "mse3_"
   ]
  },
  {
   "cell_type": "code",
   "execution_count": 31,
   "id": "6c7806c3",
   "metadata": {},
   "outputs": [
    {
     "data": {
      "text/plain": [
       "[<matplotlib.lines.Line2D at 0x2594059ed00>]"
      ]
     },
     "execution_count": 31,
     "metadata": {},
     "output_type": "execute_result"
    },
    {
     "data": {
      "image/png": "[encoded data removed]",
      "text/plain": [
       "<Figure size 432x288 with 1 Axes>"
      ]
     },
     "metadata": {
      "needs_background": "light"
     },
     "output_type": "display_data"
    }
   ],
   "source": [
    "plt.scatter(X[:,3], y)\n",
    "plt.plot(X[:,3], a4 + b4 * X[:,3])"
   ]
  },
  {
   "cell_type": "code",
   "execution_count": 38,
   "id": "405ba104",
   "metadata": {},
   "outputs": [
    {
     "data": {
      "text/plain": [
       "3.9091060313014205"
      ]
     },
     "execution_count": 38,
     "metadata": {},
     "output_type": "execute_result"
    }
   ],
   "source": [
    "mse4_ = np.sum(((a4 + b4 * X[:,3]) - y) ** 2 / 10)\n",
    "mse4_"
   ]
  },
  {
   "cell_type": "code",
   "execution_count": 39,
   "id": "6ee9ffdf",
   "metadata": {},
   "outputs": [
    {
     "data": {
      "text/plain": [
       "(6.943562823335707, 4.930461442795658, 5.2567246085300505, 3.9091060313014205)"
      ]
     },
     "execution_count": 39,
     "metadata": {},
     "output_type": "execute_result"
    }
   ],
   "source": [
    "mse1_, mse2_, mse3_, mse4_"
   ]
  },
  {
   "cell_type": "code",
   "execution_count": 49,
   "id": "8cea5b49",
   "metadata": {},
   "outputs": [],
   "source": [
    "def sum_of_squares(samples: np.ndarray) -> float:\n",
    "    \"\"\"Сумма квадратов отклонений.\"\"\"\n",
    "    return ((samples - samples.mean()) ** 2).sum()"
   ]
  },
  {
   "cell_type": "code",
   "execution_count": 57,
   "id": "1ebb1652",
   "metadata": {},
   "outputs": [
    {
     "data": {
      "text/plain": [
       "(0.880183133826423, 0.9149208477123522, 0.909290909442796, 0.9325451722512456)"
      ]
     },
     "execution_count": 57,
     "metadata": {},
     "output_type": "execute_result"
    }
   ],
   "source": [
    "#R1 = 1 - sum_of_squares(X[:,0]) / sum_of_squares(y)\n",
    "#R2 = 1 - sum_of_squares(X[:,1]) / sum_of_squares(y)\n",
    "#R3 = 1 - sum_of_squares(X[:,2]) / sum_of_squares(y)\n",
    "#R4 = 1 - sum_of_squares(X[:,3]) / sum_of_squares(y)\n",
    "R1 = 1 - mse1_ / sum_of_squares(y)\n",
    "R2 = 1 - mse2_ / sum_of_squares(y)\n",
    "R3 = 1 - mse3_ / sum_of_squares(y)\n",
    "R4 = 1 - mse4_ / sum_of_squares(y)\n",
    "R1, R2, R3, R4"
   ]
  },
  {
   "cell_type": "markdown",
   "id": "ee05f8f4",
   "metadata": {},
   "source": [
    "__Задача 2__\n",
    "\n",
    "Является ли значимым уравнение регрессии, полученное в предыдущей задаче? В качестве ответа запишите 1, если является, и 0 иначе.\n",
    "\n",
    "__Ответ__: 1"
   ]
  },
  {
   "cell_type": "code",
   "execution_count": 64,
   "id": "c5e868ec",
   "metadata": {},
   "outputs": [
    {
     "data": {
      "text/plain": [
       "(1, 8)"
      ]
     },
     "execution_count": 64,
     "metadata": {},
     "output_type": "execute_result"
    }
   ],
   "source": [
    "n = X.shape[0]\n",
    "m = 1\n",
    "\n",
    "k1 = m\n",
    "k2 = n - m - 1\n",
    "\n",
    "k1, k2"
   ]
  },
  {
   "cell_type": "code",
   "execution_count": 65,
   "id": "af24891d",
   "metadata": {},
   "outputs": [
    {
     "data": {
      "text/plain": [
       "5.317655071578714"
      ]
     },
     "execution_count": 65,
     "metadata": {},
     "output_type": "execute_result"
    }
   ],
   "source": [
    "alpha = 0.05\n",
    "t = stats.f.ppf(1 - alpha, k1, k2)\n",
    "t"
   ]
  },
  {
   "cell_type": "code",
   "execution_count": 66,
   "id": "ad418246",
   "metadata": {},
   "outputs": [
    {
     "data": {
      "text/plain": [
       "(0.0, 0.5)"
      ]
     },
     "execution_count": 66,
     "metadata": {},
     "output_type": "execute_result"
    },
    {
     "data": {
      "image/svg+xml": [
       "<?xml version=\"1.0\" encoding=\"utf-8\" standalone=\"no\"?>\r\n",
       "<!DOCTYPE svg PUBLIC \"-//W3C//DTD SVG 1.1//EN\"\r\n",
       "  \"http://www.w3.org/Graphics/SVG/1.1/DTD/svg11.dtd\">\r\n",
       "<!-- Created with matplotlib (https://matplotlib.org/) -->\r\n",
       "<svg height=\"248.064219pt\" version=\"1.1\" viewBox=\"0 0 366.6 248.064219\" width=\"366.6pt\" xmlns=\"http://www.w3.org/2000/svg\" xmlns:xlink=\"http://www.w3.org/1999/xlink\">\r\n",
       " <metadata>\r\n",
       "  <rdf:RDF xmlns:cc=\"http://creativecommons.org/ns#\" xmlns:dc=\"http://purl.org/dc/elements/1.1/\" xmlns:rdf=\"http://www.w3.org/1999/02/22-rdf-syntax-ns#\">\r\n",
       "   <cc:Work>\r\n",
       "    <dc:type rdf:resource=\"http://purl.org/dc/dcmitype/StillImage\"/>\r\n",
       "    <dc:date>2022-05-05T21:28:44.673245</dc:date>\r\n",
       "    <dc:format>image/svg+xml</dc:format>\r\n",
       "    <dc:creator>\r\n",
       "     <cc:Agent>\r\n",
       "      <dc:title>Matplotlib v3.3.4, https://matplotlib.org/</dc:title>\r\n",
       "     </cc:Agent>\r\n",
       "    </dc:creator>\r\n",
       "   </cc:Work>\r\n",
       "  </rdf:RDF>\r\n",
       " </metadata>\r\n",
       " <defs>\r\n",
       "  <style type=\"text/css\">*{stroke-linecap:butt;stroke-linejoin:round;}</style>\r\n",
       " </defs>\r\n",
       " <g id=\"figure_1\">\r\n",
       "  <g id=\"patch_1\">\r\n",
       "   <path d=\"M 0 248.064219 \r\n",
       "L 366.6 248.064219 \r\n",
       "L 366.6 0 \r\n",
       "L 0 0 \r\n",
       "z\r\n",
       "\" style=\"fill:#ffffff;\"/>\r\n",
       "  </g>\r\n",
       "  <g id=\"axes_1\">\r\n",
       "   <g id=\"patch_2\">\r\n",
       "    <path d=\"M 24.6 228.218906 \r\n",
       "L 359.4 228.218906 \r\n",
       "L 359.4 10.778906 \r\n",
       "L 24.6 10.778906 \r\n",
       "z\r\n",
       "\" style=\"fill:#ffffff;\"/>\r\n",
       "   </g>\r\n",
       "   <g id=\"matplotlib.axis_1\">\r\n",
       "    <g id=\"xtick_1\">\r\n",
       "     <g id=\"line2d_1\">\r\n",
       "      <path clip-path=\"url(#pa9b9c155fa)\" d=\"M 39.20701 228.218906 \r\n",
       "L 39.20701 10.778906 \r\n",
       "\" style=\"fill:none;stroke:#cccccc;stroke-linecap:round;stroke-width:0.8;\"/>\r\n",
       "     </g>\r\n",
       "     <g id=\"line2d_2\"/>\r\n",
       "     <g id=\"text_1\">\r\n",
       "      <!-- 0 -->\r\n",
       "      <g style=\"fill:#262626;\" transform=\"translate(36.426541 238.876719)scale(0.1 -0.1)\">\r\n",
       "       <defs>\r\n",
       "        <path d=\"M 4.15625 35.296875 \r\n",
       "Q 4.15625 48 6.765625 55.734375 \r\n",
       "Q 9.375 63.484375 14.515625 67.671875 \r\n",
       "Q 19.671875 71.875 27.484375 71.875 \r\n",
       "Q 33.25 71.875 37.59375 69.546875 \r\n",
       "Q 41.9375 67.234375 44.765625 62.859375 \r\n",
       "Q 47.609375 58.5 49.21875 52.21875 \r\n",
       "Q 50.828125 45.953125 50.828125 35.296875 \r\n",
       "Q 50.828125 22.703125 48.234375 14.96875 \r\n",
       "Q 45.65625 7.234375 40.5 3 \r\n",
       "Q 35.359375 -1.21875 27.484375 -1.21875 \r\n",
       "Q 17.140625 -1.21875 11.234375 6.203125 \r\n",
       "Q 4.15625 15.140625 4.15625 35.296875 \r\n",
       "z\r\n",
       "M 13.1875 35.296875 \r\n",
       "Q 13.1875 17.671875 17.3125 11.828125 \r\n",
       "Q 21.4375 6 27.484375 6 \r\n",
       "Q 33.546875 6 37.671875 11.859375 \r\n",
       "Q 41.796875 17.71875 41.796875 35.296875 \r\n",
       "Q 41.796875 52.984375 37.671875 58.78125 \r\n",
       "Q 33.546875 64.59375 27.390625 64.59375 \r\n",
       "Q 21.34375 64.59375 17.71875 59.46875 \r\n",
       "Q 13.1875 52.9375 13.1875 35.296875 \r\n",
       "z\r\n",
       "\" id=\"ArialMT-48\"/>\r\n",
       "       </defs>\r\n",
       "       <use xlink:href=\"#ArialMT-48\"/>\r\n",
       "      </g>\r\n",
       "     </g>\r\n",
       "    </g>\r\n",
       "    <g id=\"xtick_2\">\r\n",
       "     <g id=\"line2d_3\">\r\n",
       "      <path clip-path=\"url(#pa9b9c155fa)\" d=\"M 90.036145 228.218906 \r\n",
       "L 90.036145 10.778906 \r\n",
       "\" style=\"fill:none;stroke:#cccccc;stroke-linecap:round;stroke-width:0.8;\"/>\r\n",
       "     </g>\r\n",
       "     <g id=\"line2d_4\"/>\r\n",
       "     <g id=\"text_2\">\r\n",
       "      <!-- 1 -->\r\n",
       "      <g style=\"fill:#262626;\" transform=\"translate(87.255676 238.876719)scale(0.1 -0.1)\">\r\n",
       "       <defs>\r\n",
       "        <path d=\"M 37.25 0 \r\n",
       "L 28.46875 0 \r\n",
       "L 28.46875 56 \r\n",
       "Q 25.296875 52.984375 20.140625 49.953125 \r\n",
       "Q 14.984375 46.921875 10.890625 45.40625 \r\n",
       "L 10.890625 53.90625 \r\n",
       "Q 18.265625 57.375 23.78125 62.296875 \r\n",
       "Q 29.296875 67.234375 31.59375 71.875 \r\n",
       "L 37.25 71.875 \r\n",
       "z\r\n",
       "\" id=\"ArialMT-49\"/>\r\n",
       "       </defs>\r\n",
       "       <use xlink:href=\"#ArialMT-49\"/>\r\n",
       "      </g>\r\n",
       "     </g>\r\n",
       "    </g>\r\n",
       "    <g id=\"xtick_3\">\r\n",
       "     <g id=\"line2d_5\">\r\n",
       "      <path clip-path=\"url(#pa9b9c155fa)\" d=\"M 140.865279 228.218906 \r\n",
       "L 140.865279 10.778906 \r\n",
       "\" style=\"fill:none;stroke:#cccccc;stroke-linecap:round;stroke-width:0.8;\"/>\r\n",
       "     </g>\r\n",
       "     <g id=\"line2d_6\"/>\r\n",
       "     <g id=\"text_3\">\r\n",
       "      <!-- 2 -->\r\n",
       "      <g style=\"fill:#262626;\" transform=\"translate(138.084811 238.876719)scale(0.1 -0.1)\">\r\n",
       "       <defs>\r\n",
       "        <path d=\"M 50.34375 8.453125 \r\n",
       "L 50.34375 0 \r\n",
       "L 3.03125 0 \r\n",
       "Q 2.9375 3.171875 4.046875 6.109375 \r\n",
       "Q 5.859375 10.9375 9.828125 15.625 \r\n",
       "Q 13.8125 20.3125 21.34375 26.46875 \r\n",
       "Q 33.015625 36.03125 37.109375 41.625 \r\n",
       "Q 41.21875 47.21875 41.21875 52.203125 \r\n",
       "Q 41.21875 57.421875 37.46875 61 \r\n",
       "Q 33.734375 64.59375 27.734375 64.59375 \r\n",
       "Q 21.390625 64.59375 17.578125 60.78125 \r\n",
       "Q 13.765625 56.984375 13.71875 50.25 \r\n",
       "L 4.6875 51.171875 \r\n",
       "Q 5.609375 61.28125 11.65625 66.578125 \r\n",
       "Q 17.71875 71.875 27.9375 71.875 \r\n",
       "Q 38.234375 71.875 44.234375 66.15625 \r\n",
       "Q 50.25 60.453125 50.25 52 \r\n",
       "Q 50.25 47.703125 48.484375 43.546875 \r\n",
       "Q 46.734375 39.40625 42.65625 34.8125 \r\n",
       "Q 38.578125 30.21875 29.109375 22.21875 \r\n",
       "Q 21.1875 15.578125 18.9375 13.203125 \r\n",
       "Q 16.703125 10.84375 15.234375 8.453125 \r\n",
       "z\r\n",
       "\" id=\"ArialMT-50\"/>\r\n",
       "       </defs>\r\n",
       "       <use xlink:href=\"#ArialMT-50\"/>\r\n",
       "      </g>\r\n",
       "     </g>\r\n",
       "    </g>\r\n",
       "    <g id=\"xtick_4\">\r\n",
       "     <g id=\"line2d_7\">\r\n",
       "      <path clip-path=\"url(#pa9b9c155fa)\" d=\"M 191.694414 228.218906 \r\n",
       "L 191.694414 10.778906 \r\n",
       "\" style=\"fill:none;stroke:#cccccc;stroke-linecap:round;stroke-width:0.8;\"/>\r\n",
       "     </g>\r\n",
       "     <g id=\"line2d_8\"/>\r\n",
       "     <g id=\"text_4\">\r\n",
       "      <!-- 3 -->\r\n",
       "      <g style=\"fill:#262626;\" transform=\"translate(188.913945 238.876719)scale(0.1 -0.1)\">\r\n",
       "       <defs>\r\n",
       "        <path d=\"M 4.203125 18.890625 \r\n",
       "L 12.984375 20.0625 \r\n",
       "Q 14.5 12.59375 18.140625 9.296875 \r\n",
       "Q 21.78125 6 27 6 \r\n",
       "Q 33.203125 6 37.46875 10.296875 \r\n",
       "Q 41.75 14.59375 41.75 20.953125 \r\n",
       "Q 41.75 27 37.796875 30.921875 \r\n",
       "Q 33.84375 34.859375 27.734375 34.859375 \r\n",
       "Q 25.25 34.859375 21.53125 33.890625 \r\n",
       "L 22.515625 41.609375 \r\n",
       "Q 23.390625 41.5 23.921875 41.5 \r\n",
       "Q 29.546875 41.5 34.03125 44.421875 \r\n",
       "Q 38.53125 47.359375 38.53125 53.46875 \r\n",
       "Q 38.53125 58.296875 35.25 61.46875 \r\n",
       "Q 31.984375 64.65625 26.8125 64.65625 \r\n",
       "Q 21.6875 64.65625 18.265625 61.421875 \r\n",
       "Q 14.84375 58.203125 13.875 51.765625 \r\n",
       "L 5.078125 53.328125 \r\n",
       "Q 6.6875 62.15625 12.390625 67.015625 \r\n",
       "Q 18.109375 71.875 26.609375 71.875 \r\n",
       "Q 32.46875 71.875 37.390625 69.359375 \r\n",
       "Q 42.328125 66.84375 44.9375 62.5 \r\n",
       "Q 47.5625 58.15625 47.5625 53.265625 \r\n",
       "Q 47.5625 48.640625 45.0625 44.828125 \r\n",
       "Q 42.578125 41.015625 37.703125 38.765625 \r\n",
       "Q 44.046875 37.3125 47.5625 32.6875 \r\n",
       "Q 51.078125 28.078125 51.078125 21.140625 \r\n",
       "Q 51.078125 11.765625 44.234375 5.25 \r\n",
       "Q 37.40625 -1.265625 26.953125 -1.265625 \r\n",
       "Q 17.53125 -1.265625 11.296875 4.34375 \r\n",
       "Q 5.078125 9.96875 4.203125 18.890625 \r\n",
       "z\r\n",
       "\" id=\"ArialMT-51\"/>\r\n",
       "       </defs>\r\n",
       "       <use xlink:href=\"#ArialMT-51\"/>\r\n",
       "      </g>\r\n",
       "     </g>\r\n",
       "    </g>\r\n",
       "    <g id=\"xtick_5\">\r\n",
       "     <g id=\"line2d_9\">\r\n",
       "      <path clip-path=\"url(#pa9b9c155fa)\" d=\"M 242.523549 228.218906 \r\n",
       "L 242.523549 10.778906 \r\n",
       "\" style=\"fill:none;stroke:#cccccc;stroke-linecap:round;stroke-width:0.8;\"/>\r\n",
       "     </g>\r\n",
       "     <g id=\"line2d_10\"/>\r\n",
       "     <g id=\"text_5\">\r\n",
       "      <!-- 4 -->\r\n",
       "      <g style=\"fill:#262626;\" transform=\"translate(239.74308 238.876719)scale(0.1 -0.1)\">\r\n",
       "       <defs>\r\n",
       "        <path d=\"M 32.328125 0 \r\n",
       "L 32.328125 17.140625 \r\n",
       "L 1.265625 17.140625 \r\n",
       "L 1.265625 25.203125 \r\n",
       "L 33.9375 71.578125 \r\n",
       "L 41.109375 71.578125 \r\n",
       "L 41.109375 25.203125 \r\n",
       "L 50.78125 25.203125 \r\n",
       "L 50.78125 17.140625 \r\n",
       "L 41.109375 17.140625 \r\n",
       "L 41.109375 0 \r\n",
       "z\r\n",
       "M 32.328125 25.203125 \r\n",
       "L 32.328125 57.46875 \r\n",
       "L 9.90625 25.203125 \r\n",
       "z\r\n",
       "\" id=\"ArialMT-52\"/>\r\n",
       "       </defs>\r\n",
       "       <use xlink:href=\"#ArialMT-52\"/>\r\n",
       "      </g>\r\n",
       "     </g>\r\n",
       "    </g>\r\n",
       "    <g id=\"xtick_6\">\r\n",
       "     <g id=\"line2d_11\">\r\n",
       "      <path clip-path=\"url(#pa9b9c155fa)\" d=\"M 293.352683 228.218906 \r\n",
       "L 293.352683 10.778906 \r\n",
       "\" style=\"fill:none;stroke:#cccccc;stroke-linecap:round;stroke-width:0.8;\"/>\r\n",
       "     </g>\r\n",
       "     <g id=\"line2d_12\"/>\r\n",
       "     <g id=\"text_6\">\r\n",
       "      <!-- 5 -->\r\n",
       "      <g style=\"fill:#262626;\" transform=\"translate(290.572215 238.876719)scale(0.1 -0.1)\">\r\n",
       "       <defs>\r\n",
       "        <path d=\"M 4.15625 18.75 \r\n",
       "L 13.375 19.53125 \r\n",
       "Q 14.40625 12.796875 18.140625 9.390625 \r\n",
       "Q 21.875 6 27.15625 6 \r\n",
       "Q 33.5 6 37.890625 10.78125 \r\n",
       "Q 42.28125 15.578125 42.28125 23.484375 \r\n",
       "Q 42.28125 31 38.0625 35.34375 \r\n",
       "Q 33.84375 39.703125 27 39.703125 \r\n",
       "Q 22.75 39.703125 19.328125 37.765625 \r\n",
       "Q 15.921875 35.84375 13.96875 32.765625 \r\n",
       "L 5.71875 33.84375 \r\n",
       "L 12.640625 70.609375 \r\n",
       "L 48.25 70.609375 \r\n",
       "L 48.25 62.203125 \r\n",
       "L 19.671875 62.203125 \r\n",
       "L 15.828125 42.96875 \r\n",
       "Q 22.265625 47.46875 29.34375 47.46875 \r\n",
       "Q 38.71875 47.46875 45.15625 40.96875 \r\n",
       "Q 51.609375 34.46875 51.609375 24.265625 \r\n",
       "Q 51.609375 14.546875 45.953125 7.46875 \r\n",
       "Q 39.0625 -1.21875 27.15625 -1.21875 \r\n",
       "Q 17.390625 -1.21875 11.203125 4.25 \r\n",
       "Q 5.03125 9.71875 4.15625 18.75 \r\n",
       "z\r\n",
       "\" id=\"ArialMT-53\"/>\r\n",
       "       </defs>\r\n",
       "       <use xlink:href=\"#ArialMT-53\"/>\r\n",
       "      </g>\r\n",
       "     </g>\r\n",
       "    </g>\r\n",
       "    <g id=\"xtick_7\">\r\n",
       "     <g id=\"line2d_13\">\r\n",
       "      <path clip-path=\"url(#pa9b9c155fa)\" d=\"M 344.181818 228.218906 \r\n",
       "L 344.181818 10.778906 \r\n",
       "\" style=\"fill:none;stroke:#cccccc;stroke-linecap:round;stroke-width:0.8;\"/>\r\n",
       "     </g>\r\n",
       "     <g id=\"line2d_14\"/>\r\n",
       "     <g id=\"text_7\">\r\n",
       "      <!-- 6 -->\r\n",
       "      <g style=\"fill:#262626;\" transform=\"translate(341.401349 238.876719)scale(0.1 -0.1)\">\r\n",
       "       <defs>\r\n",
       "        <path d=\"M 49.75 54.046875 \r\n",
       "L 41.015625 53.375 \r\n",
       "Q 39.84375 58.546875 37.703125 60.890625 \r\n",
       "Q 34.125 64.65625 28.90625 64.65625 \r\n",
       "Q 24.703125 64.65625 21.53125 62.3125 \r\n",
       "Q 17.390625 59.28125 14.984375 53.46875 \r\n",
       "Q 12.59375 47.65625 12.5 36.921875 \r\n",
       "Q 15.671875 41.75 20.265625 44.09375 \r\n",
       "Q 24.859375 46.4375 29.890625 46.4375 \r\n",
       "Q 38.671875 46.4375 44.84375 39.96875 \r\n",
       "Q 51.03125 33.5 51.03125 23.25 \r\n",
       "Q 51.03125 16.5 48.125 10.71875 \r\n",
       "Q 45.21875 4.9375 40.140625 1.859375 \r\n",
       "Q 35.0625 -1.21875 28.609375 -1.21875 \r\n",
       "Q 17.625 -1.21875 10.6875 6.859375 \r\n",
       "Q 3.765625 14.9375 3.765625 33.5 \r\n",
       "Q 3.765625 54.25 11.421875 63.671875 \r\n",
       "Q 18.109375 71.875 29.4375 71.875 \r\n",
       "Q 37.890625 71.875 43.28125 67.140625 \r\n",
       "Q 48.6875 62.40625 49.75 54.046875 \r\n",
       "z\r\n",
       "M 13.875 23.1875 \r\n",
       "Q 13.875 18.65625 15.796875 14.5 \r\n",
       "Q 17.71875 10.359375 21.1875 8.171875 \r\n",
       "Q 24.65625 6 28.46875 6 \r\n",
       "Q 34.03125 6 38.03125 10.484375 \r\n",
       "Q 42.046875 14.984375 42.046875 22.703125 \r\n",
       "Q 42.046875 30.125 38.078125 34.390625 \r\n",
       "Q 34.125 38.671875 28.125 38.671875 \r\n",
       "Q 22.171875 38.671875 18.015625 34.390625 \r\n",
       "Q 13.875 30.125 13.875 23.1875 \r\n",
       "z\r\n",
       "\" id=\"ArialMT-54\"/>\r\n",
       "       </defs>\r\n",
       "       <use xlink:href=\"#ArialMT-54\"/>\r\n",
       "      </g>\r\n",
       "     </g>\r\n",
       "    </g>\r\n",
       "   </g>\r\n",
       "   <g id=\"matplotlib.axis_2\">\r\n",
       "    <g id=\"ytick_1\">\r\n",
       "     <g id=\"line2d_15\">\r\n",
       "      <path clip-path=\"url(#pa9b9c155fa)\" d=\"M 24.6 228.218906 \r\n",
       "L 359.4 228.218906 \r\n",
       "\" style=\"fill:none;stroke:#cccccc;stroke-linecap:round;stroke-width:0.8;\"/>\r\n",
       "     </g>\r\n",
       "     <g id=\"line2d_16\"/>\r\n",
       "     <g id=\"text_8\">\r\n",
       "      <!-- 0.0 -->\r\n",
       "      <g style=\"fill:#262626;\" transform=\"translate(7.2 231.797812)scale(0.1 -0.1)\">\r\n",
       "       <defs>\r\n",
       "        <path d=\"M 9.078125 0 \r\n",
       "L 9.078125 10.015625 \r\n",
       "L 19.09375 10.015625 \r\n",
       "L 19.09375 0 \r\n",
       "z\r\n",
       "\" id=\"ArialMT-46\"/>\r\n",
       "       </defs>\r\n",
       "       <use xlink:href=\"#ArialMT-48\"/>\r\n",
       "       <use x=\"55.615234\" xlink:href=\"#ArialMT-46\"/>\r\n",
       "       <use x=\"83.398438\" xlink:href=\"#ArialMT-48\"/>\r\n",
       "      </g>\r\n",
       "     </g>\r\n",
       "    </g>\r\n",
       "    <g id=\"ytick_2\">\r\n",
       "     <g id=\"line2d_17\">\r\n",
       "      <path clip-path=\"url(#pa9b9c155fa)\" d=\"M 24.6 184.730906 \r\n",
       "L 359.4 184.730906 \r\n",
       "\" style=\"fill:none;stroke:#cccccc;stroke-linecap:round;stroke-width:0.8;\"/>\r\n",
       "     </g>\r\n",
       "     <g id=\"line2d_18\"/>\r\n",
       "     <g id=\"text_9\">\r\n",
       "      <!-- 0.1 -->\r\n",
       "      <g style=\"fill:#262626;\" transform=\"translate(7.2 188.309812)scale(0.1 -0.1)\">\r\n",
       "       <use xlink:href=\"#ArialMT-48\"/>\r\n",
       "       <use x=\"55.615234\" xlink:href=\"#ArialMT-46\"/>\r\n",
       "       <use x=\"83.398438\" xlink:href=\"#ArialMT-49\"/>\r\n",
       "      </g>\r\n",
       "     </g>\r\n",
       "    </g>\r\n",
       "    <g id=\"ytick_3\">\r\n",
       "     <g id=\"line2d_19\">\r\n",
       "      <path clip-path=\"url(#pa9b9c155fa)\" d=\"M 24.6 141.242906 \r\n",
       "L 359.4 141.242906 \r\n",
       "\" style=\"fill:none;stroke:#cccccc;stroke-linecap:round;stroke-width:0.8;\"/>\r\n",
       "     </g>\r\n",
       "     <g id=\"line2d_20\"/>\r\n",
       "     <g id=\"text_10\">\r\n",
       "      <!-- 0.2 -->\r\n",
       "      <g style=\"fill:#262626;\" transform=\"translate(7.2 144.821812)scale(0.1 -0.1)\">\r\n",
       "       <use xlink:href=\"#ArialMT-48\"/>\r\n",
       "       <use x=\"55.615234\" xlink:href=\"#ArialMT-46\"/>\r\n",
       "       <use x=\"83.398438\" xlink:href=\"#ArialMT-50\"/>\r\n",
       "      </g>\r\n",
       "     </g>\r\n",
       "    </g>\r\n",
       "    <g id=\"ytick_4\">\r\n",
       "     <g id=\"line2d_21\">\r\n",
       "      <path clip-path=\"url(#pa9b9c155fa)\" d=\"M 24.6 97.754906 \r\n",
       "L 359.4 97.754906 \r\n",
       "\" style=\"fill:none;stroke:#cccccc;stroke-linecap:round;stroke-width:0.8;\"/>\r\n",
       "     </g>\r\n",
       "     <g id=\"line2d_22\"/>\r\n",
       "     <g id=\"text_11\">\r\n",
       "      <!-- 0.3 -->\r\n",
       "      <g style=\"fill:#262626;\" transform=\"translate(7.2 101.333812)scale(0.1 -0.1)\">\r\n",
       "       <use xlink:href=\"#ArialMT-48\"/>\r\n",
       "       <use x=\"55.615234\" xlink:href=\"#ArialMT-46\"/>\r\n",
       "       <use x=\"83.398438\" xlink:href=\"#ArialMT-51\"/>\r\n",
       "      </g>\r\n",
       "     </g>\r\n",
       "    </g>\r\n",
       "    <g id=\"ytick_5\">\r\n",
       "     <g id=\"line2d_23\">\r\n",
       "      <path clip-path=\"url(#pa9b9c155fa)\" d=\"M 24.6 54.266906 \r\n",
       "L 359.4 54.266906 \r\n",
       "\" style=\"fill:none;stroke:#cccccc;stroke-linecap:round;stroke-width:0.8;\"/>\r\n",
       "     </g>\r\n",
       "     <g id=\"line2d_24\"/>\r\n",
       "     <g id=\"text_12\">\r\n",
       "      <!-- 0.4 -->\r\n",
       "      <g style=\"fill:#262626;\" transform=\"translate(7.2 57.845812)scale(0.1 -0.1)\">\r\n",
       "       <use xlink:href=\"#ArialMT-48\"/>\r\n",
       "       <use x=\"55.615234\" xlink:href=\"#ArialMT-46\"/>\r\n",
       "       <use x=\"83.398438\" xlink:href=\"#ArialMT-52\"/>\r\n",
       "      </g>\r\n",
       "     </g>\r\n",
       "    </g>\r\n",
       "    <g id=\"ytick_6\">\r\n",
       "     <g id=\"line2d_25\">\r\n",
       "      <path clip-path=\"url(#pa9b9c155fa)\" d=\"M 24.6 10.778906 \r\n",
       "L 359.4 10.778906 \r\n",
       "\" style=\"fill:none;stroke:#cccccc;stroke-linecap:round;stroke-width:0.8;\"/>\r\n",
       "     </g>\r\n",
       "     <g id=\"line2d_26\"/>\r\n",
       "     <g id=\"text_13\">\r\n",
       "      <!-- 0.5 -->\r\n",
       "      <g style=\"fill:#262626;\" transform=\"translate(7.2 14.357812)scale(0.1 -0.1)\">\r\n",
       "       <use xlink:href=\"#ArialMT-48\"/>\r\n",
       "       <use x=\"55.615234\" xlink:href=\"#ArialMT-46\"/>\r\n",
       "       <use x=\"83.398438\" xlink:href=\"#ArialMT-53\"/>\r\n",
       "      </g>\r\n",
       "     </g>\r\n",
       "    </g>\r\n",
       "   </g>\r\n",
       "   <g id=\"PolyCollection_1\">\r\n",
       "    <path clip-path=\"url(#pa9b9c155fa)\" d=\"M 309.498816 228.218906 \r\n",
       "L 309.498816 220.859167 \r\n",
       "L 309.849149 220.881037 \r\n",
       "L 310.199483 220.902826 \r\n",
       "L 310.549816 220.924537 \r\n",
       "L 310.900149 220.946168 \r\n",
       "L 311.250483 220.96772 \r\n",
       "L 311.600816 220.989193 \r\n",
       "L 311.951149 221.010589 \r\n",
       "L 312.301483 221.031906 \r\n",
       "L 312.651816 221.053146 \r\n",
       "L 313.002149 221.074309 \r\n",
       "L 313.352483 221.095395 \r\n",
       "L 313.702816 221.116405 \r\n",
       "L 314.05315 221.137338 \r\n",
       "L 314.403483 221.158196 \r\n",
       "L 314.753816 221.178978 \r\n",
       "L 315.10415 221.199685 \r\n",
       "L 315.454483 221.220317 \r\n",
       "L 315.804816 221.240874 \r\n",
       "L 316.15515 221.261357 \r\n",
       "L 316.505483 221.281767 \r\n",
       "L 316.855816 221.302103 \r\n",
       "L 317.20615 221.322365 \r\n",
       "L 317.556483 221.342555 \r\n",
       "L 317.906816 221.362672 \r\n",
       "L 318.25715 221.382717 \r\n",
       "L 318.607483 221.40269 \r\n",
       "L 318.957817 221.422591 \r\n",
       "L 319.30815 221.442421 \r\n",
       "L 319.658483 221.46218 \r\n",
       "L 320.008817 221.481868 \r\n",
       "L 320.35915 221.501485 \r\n",
       "L 320.709483 221.521033 \r\n",
       "L 321.059817 221.54051 \r\n",
       "L 321.41015 221.559918 \r\n",
       "L 321.760483 221.579257 \r\n",
       "L 322.110817 221.598527 \r\n",
       "L 322.46115 221.617728 \r\n",
       "L 322.811483 221.636861 \r\n",
       "L 323.161817 221.655926 \r\n",
       "L 323.51215 221.674923 \r\n",
       "L 323.862484 221.693852 \r\n",
       "L 324.212817 221.712714 \r\n",
       "L 324.56315 221.73151 \r\n",
       "L 324.913484 221.750238 \r\n",
       "L 325.263817 221.768901 \r\n",
       "L 325.61415 221.787497 \r\n",
       "L 325.964484 221.806028 \r\n",
       "L 326.314817 221.824493 \r\n",
       "L 326.66515 221.842892 \r\n",
       "L 327.015484 221.861227 \r\n",
       "L 327.365817 221.879497 \r\n",
       "L 327.71615 221.897703 \r\n",
       "L 328.066484 221.915845 \r\n",
       "L 328.416817 221.933922 \r\n",
       "L 328.76715 221.951937 \r\n",
       "L 329.117484 221.969887 \r\n",
       "L 329.467817 221.987775 \r\n",
       "L 329.818151 222.0056 \r\n",
       "L 330.168484 222.023363 \r\n",
       "L 330.518817 222.041063 \r\n",
       "L 330.869151 222.058701 \r\n",
       "L 331.219484 222.076277 \r\n",
       "L 331.569817 222.093792 \r\n",
       "L 331.920151 222.111246 \r\n",
       "L 332.270484 222.128639 \r\n",
       "L 332.620817 222.145971 \r\n",
       "L 332.971151 222.163242 \r\n",
       "L 333.321484 222.180453 \r\n",
       "L 333.671817 222.197605 \r\n",
       "L 334.022151 222.214696 \r\n",
       "L 334.372484 222.231729 \r\n",
       "L 334.722818 222.248702 \r\n",
       "L 335.073151 222.265616 \r\n",
       "L 335.423484 222.282471 \r\n",
       "L 335.773818 222.299268 \r\n",
       "L 336.124151 222.316006 \r\n",
       "L 336.474484 222.332687 \r\n",
       "L 336.824818 222.349309 \r\n",
       "L 337.175151 222.365875 \r\n",
       "L 337.525484 222.382383 \r\n",
       "L 337.875818 222.398834 \r\n",
       "L 338.226151 222.415228 \r\n",
       "L 338.576484 222.431565 \r\n",
       "L 338.926818 222.447847 \r\n",
       "L 339.277151 222.464072 \r\n",
       "L 339.627485 222.480241 \r\n",
       "L 339.977818 222.496355 \r\n",
       "L 340.328151 222.512413 \r\n",
       "L 340.678485 222.528416 \r\n",
       "L 341.028818 222.544364 \r\n",
       "L 341.379151 222.560257 \r\n",
       "L 341.729485 222.576096 \r\n",
       "L 342.079818 222.591881 \r\n",
       "L 342.430151 222.607611 \r\n",
       "L 342.780485 222.623288 \r\n",
       "L 343.130818 222.638911 \r\n",
       "L 343.481151 222.654481 \r\n",
       "L 343.831485 222.669997 \r\n",
       "L 344.181818 222.68546 \r\n",
       "L 344.181818 228.218906 \r\n",
       "L 344.181818 228.218906 \r\n",
       "L 343.831485 228.218906 \r\n",
       "L 343.481151 228.218906 \r\n",
       "L 343.130818 228.218906 \r\n",
       "L 342.780485 228.218906 \r\n",
       "L 342.430151 228.218906 \r\n",
       "L 342.079818 228.218906 \r\n",
       "L 341.729485 228.218906 \r\n",
       "L 341.379151 228.218906 \r\n",
       "L 341.028818 228.218906 \r\n",
       "L 340.678485 228.218906 \r\n",
       "L 340.328151 228.218906 \r\n",
       "L 339.977818 228.218906 \r\n",
       "L 339.627485 228.218906 \r\n",
       "L 339.277151 228.218906 \r\n",
       "L 338.926818 228.218906 \r\n",
       "L 338.576484 228.218906 \r\n",
       "L 338.226151 228.218906 \r\n",
       "L 337.875818 228.218906 \r\n",
       "L 337.525484 228.218906 \r\n",
       "L 337.175151 228.218906 \r\n",
       "L 336.824818 228.218906 \r\n",
       "L 336.474484 228.218906 \r\n",
       "L 336.124151 228.218906 \r\n",
       "L 335.773818 228.218906 \r\n",
       "L 335.423484 228.218906 \r\n",
       "L 335.073151 228.218906 \r\n",
       "L 334.722818 228.218906 \r\n",
       "L 334.372484 228.218906 \r\n",
       "L 334.022151 228.218906 \r\n",
       "L 333.671817 228.218906 \r\n",
       "L 333.321484 228.218906 \r\n",
       "L 332.971151 228.218906 \r\n",
       "L 332.620817 228.218906 \r\n",
       "L 332.270484 228.218906 \r\n",
       "L 331.920151 228.218906 \r\n",
       "L 331.569817 228.218906 \r\n",
       "L 331.219484 228.218906 \r\n",
       "L 330.869151 228.218906 \r\n",
       "L 330.518817 228.218906 \r\n",
       "L 330.168484 228.218906 \r\n",
       "L 329.818151 228.218906 \r\n",
       "L 329.467817 228.218906 \r\n",
       "L 329.117484 228.218906 \r\n",
       "L 328.76715 228.218906 \r\n",
       "L 328.416817 228.218906 \r\n",
       "L 328.066484 228.218906 \r\n",
       "L 327.71615 228.218906 \r\n",
       "L 327.365817 228.218906 \r\n",
       "L 327.015484 228.218906 \r\n",
       "L 326.66515 228.218906 \r\n",
       "L 326.314817 228.218906 \r\n",
       "L 325.964484 228.218906 \r\n",
       "L 325.61415 228.218906 \r\n",
       "L 325.263817 228.218906 \r\n",
       "L 324.913484 228.218906 \r\n",
       "L 324.56315 228.218906 \r\n",
       "L 324.212817 228.218906 \r\n",
       "L 323.862484 228.218906 \r\n",
       "L 323.51215 228.218906 \r\n",
       "L 323.161817 228.218906 \r\n",
       "L 322.811483 228.218906 \r\n",
       "L 322.46115 228.218906 \r\n",
       "L 322.110817 228.218906 \r\n",
       "L 321.760483 228.218906 \r\n",
       "L 321.41015 228.218906 \r\n",
       "L 321.059817 228.218906 \r\n",
       "L 320.709483 228.218906 \r\n",
       "L 320.35915 228.218906 \r\n",
       "L 320.008817 228.218906 \r\n",
       "L 319.658483 228.218906 \r\n",
       "L 319.30815 228.218906 \r\n",
       "L 318.957817 228.218906 \r\n",
       "L 318.607483 228.218906 \r\n",
       "L 318.25715 228.218906 \r\n",
       "L 317.906816 228.218906 \r\n",
       "L 317.556483 228.218906 \r\n",
       "L 317.20615 228.218906 \r\n",
       "L 316.855816 228.218906 \r\n",
       "L 316.505483 228.218906 \r\n",
       "L 316.15515 228.218906 \r\n",
       "L 315.804816 228.218906 \r\n",
       "L 315.454483 228.218906 \r\n",
       "L 315.10415 228.218906 \r\n",
       "L 314.753816 228.218906 \r\n",
       "L 314.403483 228.218906 \r\n",
       "L 314.05315 228.218906 \r\n",
       "L 313.702816 228.218906 \r\n",
       "L 313.352483 228.218906 \r\n",
       "L 313.002149 228.218906 \r\n",
       "L 312.651816 228.218906 \r\n",
       "L 312.301483 228.218906 \r\n",
       "L 311.951149 228.218906 \r\n",
       "L 311.600816 228.218906 \r\n",
       "L 311.250483 228.218906 \r\n",
       "L 310.900149 228.218906 \r\n",
       "L 310.549816 228.218906 \r\n",
       "L 310.199483 228.218906 \r\n",
       "L 309.849149 228.218906 \r\n",
       "L 309.498816 228.218906 \r\n",
       "z\r\n",
       "\" style=\"fill:#1f77b4;fill-opacity:0.5;\"/>\r\n",
       "   </g>\r\n",
       "   <g id=\"line2d_27\">\r\n",
       "    <path clip-path=\"url(#pa9b9c155fa)\" d=\"M 57.586596 -1 \r\n",
       "L 59.375685 13.507815 \r\n",
       "L 61.2092 26.576203 \r\n",
       "L 63.042716 38.172557 \r\n",
       "L 64.876232 48.555049 \r\n",
       "L 66.709748 57.921595 \r\n",
       "L 69.154436 69.092681 \r\n",
       "L 71.599124 79.012008 \r\n",
       "L 74.043812 87.893263 \r\n",
       "L 76.488499 95.901458 \r\n",
       "L 78.933187 103.166459 \r\n",
       "L 81.377875 109.792162 \r\n",
       "L 83.822563 115.862884 \r\n",
       "L 86.267251 121.447925 \r\n",
       "L 89.323111 127.833078 \r\n",
       "L 92.37897 133.641385 \r\n",
       "L 95.43483 138.948361 \r\n",
       "L 98.49069 143.816279 \r\n",
       "L 101.54655 148.297052 \r\n",
       "L 104.60241 152.434382 \r\n",
       "L 108.269441 156.997693 \r\n",
       "L 111.936473 161.173748 \r\n",
       "L 115.603505 165.007919 \r\n",
       "L 119.270537 168.538572 \r\n",
       "L 123.54874 172.317422 \r\n",
       "L 127.826944 175.771592 \r\n",
       "L 132.105148 178.938341 \r\n",
       "L 136.383352 181.849398 \r\n",
       "L 141.272727 184.897964 \r\n",
       "L 146.162103 187.682734 \r\n",
       "L 151.662651 190.536966 \r\n",
       "L 157.163198 193.130522 \r\n",
       "L 163.274918 195.743337 \r\n",
       "L 169.386637 198.107088 \r\n",
       "L 176.109529 200.455078 \r\n",
       "L 182.832421 202.571408 \r\n",
       "L 190.166484 204.649182 \r\n",
       "L 198.11172 206.663048 \r\n",
       "L 206.668127 208.592995 \r\n",
       "L 215.835706 210.424046 \r\n",
       "L 225.614458 212.145803 \r\n",
       "L 236.004381 213.751893 \r\n",
       "L 247.616648 215.316272 \r\n",
       "L 260.45126 216.807519 \r\n",
       "L 274.508215 218.202974 \r\n",
       "L 289.787514 219.488026 \r\n",
       "L 306.900329 220.694425 \r\n",
       "L 325.846659 221.799803 \r\n",
       "L 344.181818 222.68546 \r\n",
       "L 344.181818 222.68546 \r\n",
       "\" style=\"fill:none;stroke:#1f77b4;stroke-linecap:round;stroke-width:1.5;\"/>\r\n",
       "   </g>\r\n",
       "   <g id=\"patch_3\">\r\n",
       "    <path d=\"M 24.6 228.218906 \r\n",
       "L 24.6 10.778906 \r\n",
       "\" style=\"fill:none;stroke:#cccccc;stroke-linecap:square;stroke-linejoin:miter;\"/>\r\n",
       "   </g>\r\n",
       "   <g id=\"patch_4\">\r\n",
       "    <path d=\"M 359.4 228.218906 \r\n",
       "L 359.4 10.778906 \r\n",
       "\" style=\"fill:none;stroke:#cccccc;stroke-linecap:square;stroke-linejoin:miter;\"/>\r\n",
       "   </g>\r\n",
       "   <g id=\"patch_5\">\r\n",
       "    <path d=\"M 24.6 228.218906 \r\n",
       "L 359.4 228.218906 \r\n",
       "\" style=\"fill:none;stroke:#cccccc;stroke-linecap:square;stroke-linejoin:miter;\"/>\r\n",
       "   </g>\r\n",
       "   <g id=\"patch_6\">\r\n",
       "    <path d=\"M 24.6 10.778906 \r\n",
       "L 359.4 10.778906 \r\n",
       "\" style=\"fill:none;stroke:#cccccc;stroke-linecap:square;stroke-linejoin:miter;\"/>\r\n",
       "   </g>\r\n",
       "  </g>\r\n",
       " </g>\r\n",
       " <defs>\r\n",
       "  <clipPath id=\"pa9b9c155fa\">\r\n",
       "   <rect height=\"217.44\" width=\"334.8\" x=\"24.6\" y=\"10.778906\"/>\r\n",
       "  </clipPath>\r\n",
       " </defs>\r\n",
       "</svg>\r\n"
      ],
      "text/plain": [
       "<Figure size 432x288 with 1 Axes>"
      ]
     },
     "metadata": {},
     "output_type": "display_data"
    }
   ],
   "source": [
    "ox = np.linspace(0, 6, 500)\n",
    "oy = stats.f.pdf(ox, k1, k2)\n",
    "\n",
    "ox_right = np.linspace(t, 6, 100)\n",
    "oy_right = stats.f.pdf(ox_right, k1, k2)\n",
    "\n",
    "plt.plot(ox, oy)\n",
    "plt.fill_between(ox_right, oy_right, alpha=0.5)\n",
    "\n",
    "plt.ylim(0, 0.5)"
   ]
  },
  {
   "cell_type": "code",
   "execution_count": 68,
   "id": "0ac1564d",
   "metadata": {},
   "outputs": [
    {
     "data": {
      "text/plain": [
       "(58.768563187176944, 86.03008592460405, 80.19402720122025, 110.5978864225581)"
      ]
     },
     "execution_count": 68,
     "metadata": {},
     "output_type": "execute_result"
    }
   ],
   "source": [
    "F1 = (R1 / k1) / ((1 - R1) / k2)\n",
    "F2 = (R2 / k1) / ((1 - R2) / k2)\n",
    "F3 = (R3 / k1) / ((1 - R3) / k2)\n",
    "F4 = (R4 / k1) / ((1 - R4) / k2)\n",
    "F1, F2, F3, F4"
   ]
  },
  {
   "cell_type": "markdown",
   "id": "94774a47",
   "metadata": {},
   "source": [
    "Статистика попала в критическую область, уравнение регрессии признаётся значимым."
   ]
  },
  {
   "cell_type": "markdown",
   "id": "183fa6df",
   "metadata": {},
   "source": [
    "__Задача 3__\n",
    "\n",
    "Для проведения A/B-тестирования сайта интернет-магазина были получены следующие данные: страница `A` была посещена 2509 раз, из них 77 закончились совершением покупки, страница `B` была посещена 1465 раз, 60 из них закончились совершением покупки. Является ли значимым отличие конверсии на страницах `A` и `B`? В качестве ответа запишите 1, если является, и 0 иначе.\n",
    "\n",
    "_Подсказка_. Реализуйте двухвыборочный t-тест. В качестве выборок здесь можно взять наборы меток совершения покупки (0 или 1) каждым посетителем.\n",
    "\n",
    "__Ответ__: 0"
   ]
  },
  {
   "cell_type": "code",
   "execution_count": 3,
   "id": "79ab3680",
   "metadata": {},
   "outputs": [],
   "source": [
    "y1 = np.zeros(2509)\n",
    "y1[np.arange(77)] = 1\n",
    "y2 = np.zeros(1465)\n",
    "y2[np.arange(60)] = 1"
   ]
  },
  {
   "cell_type": "code",
   "execution_count": 4,
   "id": "99783250",
   "metadata": {},
   "outputs": [],
   "source": [
    "y = np.concatenate([y1, y2])\n",
    "\n",
    "n1 = y1.shape[0]\n",
    "n2 = y2.shape[0]\n",
    "n = n1+n2\n",
    "\n",
    "y1_mean = y1.mean()\n",
    "y2_mean = y2.mean()\n",
    "y_mean = y.mean()"
   ]
  },
  {
   "cell_type": "code",
   "execution_count": 5,
   "id": "06ccd4bc",
   "metadata": {},
   "outputs": [],
   "source": [
    "SSb = n1*(y1_mean - y_mean)**2 + n2*(y2_mean - y_mean)**2\n",
    "SSw = ((y1 - y1_mean)**2).sum() + ((y2 - y2_mean)**2).sum()"
   ]
  },
  {
   "cell_type": "code",
   "execution_count": 6,
   "id": "ed3d8686",
   "metadata": {},
   "outputs": [],
   "source": [
    "k = 2\n",
    "k1 = k-1\n",
    "k2 = n-k\n",
    "sigma2b = SSb/k1\n",
    "sigma2w = SSw/k2\n",
    "\n",
    "F = sigma2b/sigma2w"
   ]
  },
  {
   "cell_type": "code",
   "execution_count": 8,
   "id": "10cb0a66",
   "metadata": {},
   "outputs": [
    {
     "name": "stdout",
     "output_type": "stream",
     "text": [
      "Ответ:  0\n"
     ]
    }
   ],
   "source": [
    "alpha = 0.05\n",
    "t = stats.f.ppf(1 - alpha, k1, k2)\n",
    "print(\"Ответ: \",int(F>=t))"
   ]
  },
  {
   "cell_type": "code",
   "execution_count": null,
   "id": "009ff1c2",
   "metadata": {},
   "outputs": [],
   "source": []
  }
 ],
 "metadata": {
  "kernelspec": {
   "display_name": "Python 3",
   "language": "python",
   "name": "python3"
  },
  "language_info": {
   "codemirror_mode": {
    "name": "ipython",
    "version": 3
   },
   "file_extension": ".py",
   "mimetype": "text/x-python",
   "name": "python",
   "nbconvert_exporter": "python",
   "pygments_lexer": "ipython3",
   "version": "3.8.8"
  }
 },
 "nbformat": 4,
 "nbformat_minor": 5
}
